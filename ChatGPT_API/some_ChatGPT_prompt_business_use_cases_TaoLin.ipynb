{
  "nbformat": 4,
  "nbformat_minor": 0,
  "metadata": {
    "colab": {
      "provenance": [],
      "toc_visible": true,
      "authorship_tag": "ABX9TyMiVe/5XAe9l8U0Gl8jzD32",
      "include_colab_link": true
    },
    "kernelspec": {
      "name": "python3",
      "display_name": "Python 3"
    },
    "language_info": {
      "name": "python"
    }
  },
  "cells": [
    {
      "cell_type": "markdown",
      "metadata": {
        "id": "view-in-github",
        "colab_type": "text"
      },
      "source": [
        "<a href=\"https://colab.research.google.com/github/daywatch/LLM_and_ChatGPT/blob/main/ChatGPT_API/some_ChatGPT_prompt_business_use_cases_TaoLin.ipynb\" target=\"_parent\"><img src=\"https://colab.research.google.com/assets/colab-badge.svg\" alt=\"Open In Colab\"/></a>"
      ]
    },
    {
      "cell_type": "code",
      "source": [
        "!pip install openai\n",
        "!pip install python-dotenv"
      ],
      "metadata": {
        "colab": {
          "base_uri": "https://localhost:8080/"
        },
        "id": "EBDKkBVnMGQd",
        "outputId": "ccd01213-b7a4-4998-9934-c81c06de18c5"
      },
      "execution_count": 1,
      "outputs": [
        {
          "output_type": "stream",
          "name": "stdout",
          "text": [
            "Looking in indexes: https://pypi.org/simple, https://us-python.pkg.dev/colab-wheels/public/simple/\n",
            "Collecting openai\n",
            "  Downloading openai-0.27.8-py3-none-any.whl (73 kB)\n",
            "\u001b[2K     \u001b[90m━━━━━━━━━━━━━━━━━━━━━━━━━━━━━━━━━━━━━━━━\u001b[0m \u001b[32m73.6/73.6 kB\u001b[0m \u001b[31m1.8 MB/s\u001b[0m eta \u001b[36m0:00:00\u001b[0m\n",
            "\u001b[?25hRequirement already satisfied: requests>=2.20 in /usr/local/lib/python3.10/dist-packages (from openai) (2.27.1)\n",
            "Requirement already satisfied: tqdm in /usr/local/lib/python3.10/dist-packages (from openai) (4.65.0)\n",
            "Collecting aiohttp (from openai)\n",
            "  Downloading aiohttp-3.8.4-cp310-cp310-manylinux_2_17_x86_64.manylinux2014_x86_64.whl (1.0 MB)\n",
            "\u001b[2K     \u001b[90m━━━━━━━━━━━━━━━━━━━━━━━━━━━━━━━━━━━━━━━━\u001b[0m \u001b[32m1.0/1.0 MB\u001b[0m \u001b[31m12.0 MB/s\u001b[0m eta \u001b[36m0:00:00\u001b[0m\n",
            "\u001b[?25hRequirement already satisfied: urllib3<1.27,>=1.21.1 in /usr/local/lib/python3.10/dist-packages (from requests>=2.20->openai) (1.26.15)\n",
            "Requirement already satisfied: certifi>=2017.4.17 in /usr/local/lib/python3.10/dist-packages (from requests>=2.20->openai) (2022.12.7)\n",
            "Requirement already satisfied: charset-normalizer~=2.0.0 in /usr/local/lib/python3.10/dist-packages (from requests>=2.20->openai) (2.0.12)\n",
            "Requirement already satisfied: idna<4,>=2.5 in /usr/local/lib/python3.10/dist-packages (from requests>=2.20->openai) (3.4)\n",
            "Requirement already satisfied: attrs>=17.3.0 in /usr/local/lib/python3.10/dist-packages (from aiohttp->openai) (23.1.0)\n",
            "Collecting multidict<7.0,>=4.5 (from aiohttp->openai)\n",
            "  Downloading multidict-6.0.4-cp310-cp310-manylinux_2_17_x86_64.manylinux2014_x86_64.whl (114 kB)\n",
            "\u001b[2K     \u001b[90m━━━━━━━━━━━━━━━━━━━━━━━━━━━━━━━━━━━━━━\u001b[0m \u001b[32m114.5/114.5 kB\u001b[0m \u001b[31m15.1 MB/s\u001b[0m eta \u001b[36m0:00:00\u001b[0m\n",
            "\u001b[?25hCollecting async-timeout<5.0,>=4.0.0a3 (from aiohttp->openai)\n",
            "  Downloading async_timeout-4.0.2-py3-none-any.whl (5.8 kB)\n",
            "Collecting yarl<2.0,>=1.0 (from aiohttp->openai)\n",
            "  Downloading yarl-1.9.2-cp310-cp310-manylinux_2_17_x86_64.manylinux2014_x86_64.whl (268 kB)\n",
            "\u001b[2K     \u001b[90m━━━━━━━━━━━━━━━━━━━━━━━━━━━━━━━━━━━━━━\u001b[0m \u001b[32m268.8/268.8 kB\u001b[0m \u001b[31m31.0 MB/s\u001b[0m eta \u001b[36m0:00:00\u001b[0m\n",
            "\u001b[?25hCollecting frozenlist>=1.1.1 (from aiohttp->openai)\n",
            "  Downloading frozenlist-1.3.3-cp310-cp310-manylinux_2_5_x86_64.manylinux1_x86_64.manylinux_2_17_x86_64.manylinux2014_x86_64.whl (149 kB)\n",
            "\u001b[2K     \u001b[90m━━━━━━━━━━━━━━━━━━━━━━━━━━━━━━━━━━━━━━\u001b[0m \u001b[32m149.6/149.6 kB\u001b[0m \u001b[31m11.7 MB/s\u001b[0m eta \u001b[36m0:00:00\u001b[0m\n",
            "\u001b[?25hCollecting aiosignal>=1.1.2 (from aiohttp->openai)\n",
            "  Downloading aiosignal-1.3.1-py3-none-any.whl (7.6 kB)\n",
            "Installing collected packages: multidict, frozenlist, async-timeout, yarl, aiosignal, aiohttp, openai\n",
            "Successfully installed aiohttp-3.8.4 aiosignal-1.3.1 async-timeout-4.0.2 frozenlist-1.3.3 multidict-6.0.4 openai-0.27.8 yarl-1.9.2\n",
            "Looking in indexes: https://pypi.org/simple, https://us-python.pkg.dev/colab-wheels/public/simple/\n",
            "Collecting python-dotenv\n",
            "  Downloading python_dotenv-1.0.0-py3-none-any.whl (19 kB)\n",
            "Installing collected packages: python-dotenv\n",
            "Successfully installed python-dotenv-1.0.0\n"
          ]
        }
      ]
    },
    {
      "cell_type": "code",
      "source": [
        "import os\n",
        "import openai\n",
        "\n",
        "# Load your API key from an environment variable or secret management service\n",
        "\n",
        "from dotenv import load_dotenv, find_dotenv\n",
        "_ = load_dotenv(find_dotenv())\n",
        "\n",
        "#openai.api_key  = os.getenv('OPENAI_API_KEY')\n",
        "\n",
        "openai.api_key = \"123\""
      ],
      "metadata": {
        "id": "WWpII6xwMTZQ"
      },
      "execution_count": 2,
      "outputs": []
    },
    {
      "cell_type": "code",
      "source": [
        "def get_completion(prompt, model=\"gpt-3.5-turbo\",temperature=3): # Andrew mentioned that the prompt/ completion paradigm is preferable for this class\n",
        "    messages = [{\"role\": \"user\", \"content\": prompt}]\n",
        "    response = openai.ChatCompletion.create(\n",
        "        model=model,\n",
        "        messages=messages,\n",
        "        temperature=temperature, # this is the degree of randomness of the model's output\n",
        "    )\n",
        "    return response.choices[0].message[\"content\"]"
      ],
      "metadata": {
        "id": "1WmNBuAxSXBq"
      },
      "execution_count": 3,
      "outputs": []
    },
    {
      "cell_type": "markdown",
      "source": [
        "## IT"
      ],
      "metadata": {
        "id": "YBVIvArLLhZo"
      }
    },
    {
      "cell_type": "markdown",
      "source": [
        "### 1. Compose an email"
      ],
      "metadata": {
        "id": "zxRZS4ziVec-"
      }
    },
    {
      "cell_type": "code",
      "source": [
        "issue_description = f\"\"\"\n",
        "Network outbreak since 8 pm PST in Santa Clara on June 2, 2023. \\\n",
        "global scope. will last 36 hours.\\\n",
        "Employees'services are restored, including Zoom, OneDrive, AWS services, DocuSign. \n",
        "\"\"\"\n",
        "\n",
        "prompt = f\"\"\"\n",
        "Issue:{issue_description}\n",
        "\n",
        "Requirement: You are an assistant from IT department. Write an email to all employees about the situation. If there are any problems, \\\n",
        "they need to contact the IT department using it_helpdesk@gmail.com or call 425-413-0391. \\\n",
        "No more than 150 words. Use formal business succinct style. The email body is in HTML format.\\\n",
        "\n",
        "After the email, include a table that gives the \n",
        "product's dimensions. Add The table should have two columns. Add borders to the table.\n",
        "In the first row include these items:\n",
        " \n",
        "- Ticket number\n",
        "- Issue type\n",
        "- Start time\n",
        "- End time\n",
        "- Reason of the issue\n",
        "- Location\n",
        "- Affected services\n",
        "- Status\n",
        "\n",
        "In the second column include the values of the first row. If the value cannot be found, enter \"N/A\". \\\n",
        "\n",
        "Format everything as HTML format that can be used in a website. \n",
        "Place everything in a <div> element. The email and table are separated by a new line.\n",
        "After adding a new line, end the email with a signature.\n",
        "\"\"\"\n",
        "\n",
        "response = get_completion(prompt,temperature=0)\n",
        "print(response)"
      ],
      "metadata": {
        "colab": {
          "base_uri": "https://localhost:8080/"
        },
        "id": "_LUGSWCySebe",
        "outputId": "1076809c-354d-4f9a-8f3f-c948d84a43ed"
      },
      "execution_count": 4,
      "outputs": [
        {
          "output_type": "stream",
          "name": "stdout",
          "text": [
            "<div>\n",
            "  <p>Dear Employees,</p>\n",
            "  <p>We regret to inform you that there has been a network outbreak since 8 pm PST in Santa Clara on June 2, 2023. The outbreak has a global scope and is expected to last for 36 hours. However, we are pleased to inform you that all employee services have been restored, including Zoom, OneDrive, AWS services, and DocuSign.</p>\n",
            "  <p>If you encounter any problems, please contact the IT department using it_helpdesk@gmail.com or call 425-413-0391.</p>\n",
            "  <br>\n",
            "  <table style=\"border-collapse: collapse; border: 1px solid black;\">\n",
            "    <tr>\n",
            "      <th style=\"border: 1px solid black; padding: 5px;\">Ticket number</th>\n",
            "      <th style=\"border: 1px solid black; padding: 5px;\">Issue type</th>\n",
            "      <th style=\"border: 1px solid black; padding: 5px;\">Start time</th>\n",
            "      <th style=\"border: 1px solid black; padding: 5px;\">End time</th>\n",
            "      <th style=\"border: 1px solid black; padding: 5px;\">Reason of the issue</th>\n",
            "      <th style=\"border: 1px solid black; padding: 5px;\">Location</th>\n",
            "      <th style=\"border: 1px solid black; padding: 5px;\">Affected services</th>\n",
            "      <th style=\"border: 1px solid black; padding: 5px;\">Status</th>\n",
            "    </tr>\n",
            "    <tr>\n",
            "      <td style=\"border: 1px solid black; padding: 5px;\">N/A</td>\n",
            "      <td style=\"border: 1px solid black; padding: 5px;\">Network outbreak</td>\n",
            "      <td style=\"border: 1px solid black; padding: 5px;\">8 pm PST on June 2, 2023</td>\n",
            "      <td style=\"border: 1px solid black; padding: 5px;\">36 hours later</td>\n",
            "      <td style=\"border: 1px solid black; padding: 5px;\">N/A</td>\n",
            "      <td style=\"border: 1px solid black; padding: 5px;\">Santa Clara</td>\n",
            "      <td style=\"border: 1px solid black; padding: 5px;\">Zoom, OneDrive, AWS services, DocuSign</td>\n",
            "      <td style=\"border: 1px solid black; padding: 5px;\">Resolved</td>\n",
            "    </tr>\n",
            "  </table>\n",
            "  <br>\n",
            "  <p>Thank you for your understanding and cooperation.</p>\n",
            "  <p>Best regards,</p>\n",
            "  <p>IT Department</p>\n",
            "</div>\n"
          ]
        }
      ]
    },
    {
      "cell_type": "code",
      "source": [
        "from IPython.display import display, HTML\n",
        "display(HTML(response))"
      ],
      "metadata": {
        "colab": {
          "base_uri": "https://localhost:8080/",
          "height": 331
        },
        "id": "svuh-ypLfba8",
        "outputId": "a628a402-6e9e-483d-f13f-a52346eafc4f"
      },
      "execution_count": 5,
      "outputs": [
        {
          "output_type": "display_data",
          "data": {
            "text/plain": [
              "<IPython.core.display.HTML object>"
            ],
            "text/html": [
              "<div>\n",
              "  <p>Dear Employees,</p>\n",
              "  <p>We regret to inform you that there has been a network outbreak since 8 pm PST in Santa Clara on June 2, 2023. The outbreak has a global scope and is expected to last for 36 hours. However, we are pleased to inform you that all employee services have been restored, including Zoom, OneDrive, AWS services, and DocuSign.</p>\n",
              "  <p>If you encounter any problems, please contact the IT department using it_helpdesk@gmail.com or call 425-413-0391.</p>\n",
              "  <br>\n",
              "  <table style=\"border-collapse: collapse; border: 1px solid black;\">\n",
              "    <tr>\n",
              "      <th style=\"border: 1px solid black; padding: 5px;\">Ticket number</th>\n",
              "      <th style=\"border: 1px solid black; padding: 5px;\">Issue type</th>\n",
              "      <th style=\"border: 1px solid black; padding: 5px;\">Start time</th>\n",
              "      <th style=\"border: 1px solid black; padding: 5px;\">End time</th>\n",
              "      <th style=\"border: 1px solid black; padding: 5px;\">Reason of the issue</th>\n",
              "      <th style=\"border: 1px solid black; padding: 5px;\">Location</th>\n",
              "      <th style=\"border: 1px solid black; padding: 5px;\">Affected services</th>\n",
              "      <th style=\"border: 1px solid black; padding: 5px;\">Status</th>\n",
              "    </tr>\n",
              "    <tr>\n",
              "      <td style=\"border: 1px solid black; padding: 5px;\">N/A</td>\n",
              "      <td style=\"border: 1px solid black; padding: 5px;\">Network outbreak</td>\n",
              "      <td style=\"border: 1px solid black; padding: 5px;\">8 pm PST on June 2, 2023</td>\n",
              "      <td style=\"border: 1px solid black; padding: 5px;\">36 hours later</td>\n",
              "      <td style=\"border: 1px solid black; padding: 5px;\">N/A</td>\n",
              "      <td style=\"border: 1px solid black; padding: 5px;\">Santa Clara</td>\n",
              "      <td style=\"border: 1px solid black; padding: 5px;\">Zoom, OneDrive, AWS services, DocuSign</td>\n",
              "      <td style=\"border: 1px solid black; padding: 5px;\">Resolved</td>\n",
              "    </tr>\n",
              "  </table>\n",
              "  <br>\n",
              "  <p>Thank you for your understanding and cooperation.</p>\n",
              "  <p>Best regards,</p>\n",
              "  <p>IT Department</p>\n",
              "</div>"
            ]
          },
          "metadata": {}
        }
      ]
    },
    {
      "cell_type": "markdown",
      "source": [
        "### 2. Detect keywords\n",
        "Similar to entity detection or topic model"
      ],
      "metadata": {
        "id": "McK7pEfrdNTt"
      }
    },
    {
      "cell_type": "code",
      "source": [
        "slack_message1 = f\"\"\"Hey folks, i don’t see a way to have diff queue or any other integrations with phab/etc. \\\n",
        "Can we have some or there is no support for that at all?\"\"\"\n",
        "\n",
        "slack_message2 = f\"\"\"hi - I'm in conference room Piccadilly in 764 Marketplace in Santa Barbara \\\n",
        "and the audio isn't working here. Can someone please assist?\n",
        "\"\"\"\n",
        "\n",
        "stackoverflow_message1= f\"\"\" I am new to GitHub API, not sure if it's the best solution either.\n",
        "But suppose I have a list of Repositories in which I want to commit in the future or have committed already as a .md file, can be a .txt file also if it suits the purpose.\n",
        "e.g.\n",
        "| Serial Number  | Name |\n",
        "| ------------- | ------------- |\n",
        "| 1  | [Badges](https://github.com/badges/shields)  |\n",
        "| 2  | [Tensorflow](https://github.com/tensorflow/tensorflow)  |\n",
        "etc\n",
        "Now let's say, I contributed once in TF. I want to sort the .md file or .txt according to the number of contributions.\n",
        "Of course, the list might contain REPO in which I haven't contributed at all like Badges here.\n",
        "Lastly, can someone suggest how to automate this\n",
        "\"\"\"\n",
        "\n",
        "prompt = f\"\"\"\n",
        "\n",
        "Requirement: You are analyzing several descriptions of IT issues. \n",
        "\n",
        "The first issue is: {slack_message1} \\\n",
        "\n",
        "The second issue is: {slack_message2} \\ \n",
        "\n",
        "The third issue is: {stackoverflow_message1} \\ \n",
        "\n",
        "Please generate keywords for each issue. Then return a final list. The final list only has top-7 elements. The final list has no duplicates.\\\n",
        "\n",
        "\"\"\"\n",
        "\n",
        "response = get_completion(prompt,temperature=0)\n",
        "print(response)"
      ],
      "metadata": {
        "colab": {
          "base_uri": "https://localhost:8080/"
        },
        "id": "loHouI40dWD8",
        "outputId": "ce447c8e-a82e-41e3-aedc-84fc13b929a1"
      },
      "execution_count": 6,
      "outputs": [
        {
          "output_type": "stream",
          "name": "stdout",
          "text": [
            "Keywords for each issue:\n",
            "\n",
            "Issue 1: queue, integrations, phab, support\n",
            "Issue 2: conference room, audio, assistance\n",
            "Issue 3: GitHub API, repositories, commit, contributions, sorting, automation\n",
            "\n",
            "Final list of top-7 keywords with no duplicates:\n",
            "GitHub API, repositories, commit, contributions, sorting, automation, audio\n"
          ]
        }
      ]
    },
    {
      "cell_type": "markdown",
      "source": [
        "# HR"
      ],
      "metadata": {
        "id": "1p86w61nL5bz"
      }
    },
    {
      "cell_type": "markdown",
      "source": [
        "### 1. Generate a customized job description\n",
        "\n"
      ],
      "metadata": {
        "id": "6kNeJYllz1wR"
      }
    },
    {
      "cell_type": "code",
      "source": [
        "keyword_package = {\n",
        "  \"Job title\":\"Logistics Operator L1\",\n",
        "  \"Location\":\"Oregon\",\n",
        "  \"Duty\":\"transportation transport inventory, Standard Operating Practices and Work Instructions, qu 5S standard\",\n",
        "  \"Basic skills\":\"valid driver’s license, Department of Transportation (DOT) Medical Card physical exam\",\n",
        " \"Preferred skills\":\"HS diploma or GED, 1+ year of operation and box driving experience, apple devices, material handling in a warehouse\",\n",
        "  \"Soft skills\":\"changing priorities, timely decisions and actions, team player, sense of safety, efficiency in operation tasks, new skills, initiatives, positive, respect, communication skills\",\n",
        "\"Company value\": \"Our employees shape the way technology is delivered. Our role as a IT Services Provider grants our people the unique opportunity to work with some of the biggest names in the tech industry without sacrificing the open communication or the sense of community of a close-knit work environment. \"\n",
        "}\n",
        "\n",
        "prompt = f\"\"\"\n",
        "\n",
        "Please generate a job description for a {keyword_package[\"Job title\"]}. \\\n",
        "The ideal candidate should be able to {keyword_package[\"Duty\"]}. \\\n",
        "They should have hard skills like {keyword_package[\"Basic skills\"]} and show soft skills like {keyword_package[\"Soft skills\"]}. \\\n",
        "Please include the job responsibilities and required qualifications that fits the company value like {keyword_package[\"Company value\"]}. \\\n",
        "No more than 650 words. No repeated requirements. Keep different sentence alternations and reduce repeatition. \n",
        "\n",
        "\"\"\"\n",
        "\n",
        "response = get_completion(prompt,temperature=0)\n",
        "print(response)"
      ],
      "metadata": {
        "colab": {
          "base_uri": "https://localhost:8080/"
        },
        "id": "5j2Y-ABkvs33",
        "outputId": "d1e749c0-2647-4a66-d21b-8c5fcd86f6d9"
      },
      "execution_count": 7,
      "outputs": [
        {
          "output_type": "stream",
          "name": "stdout",
          "text": [
            "Job Description: Logistics Operator L1\n",
            "\n",
            "Our company is seeking a Logistics Operator L1 to join our team. As a Logistics Operator L1, you will be responsible for the transportation of inventory, adherence to Standard Operating Practices and Work Instructions, and maintaining the 5S standard. The ideal candidate will possess hard skills such as a valid driver’s license, Department of Transportation (DOT) Medical Card physical exam, and the ability to operate various types of equipment. Additionally, the candidate should demonstrate soft skills such as the ability to adapt to changing priorities, make timely decisions and actions, work well in a team environment, prioritize safety, and be efficient in operational tasks. \n",
            "\n",
            "Responsibilities:\n",
            "- Transport inventory to and from designated locations\n",
            "- Adhere to Standard Operating Practices and Work Instructions\n",
            "- Maintain the 5S standard in the work area\n",
            "- Operate various types of equipment, including forklifts and pallet jacks\n",
            "- Ensure the safety of all personnel and equipment during transportation\n",
            "- Communicate effectively with team members and management\n",
            "- Maintain accurate records of inventory and transportation activities\n",
            "- Continuously improve operational efficiency and identify areas for improvement\n",
            "- Perform other duties as assigned by management\n",
            "\n",
            "Qualifications:\n",
            "- Valid driver’s license and Department of Transportation (DOT) Medical Card physical exam\n",
            "- Ability to operate various types of equipment, including forklifts and pallet jacks\n",
            "- Ability to adapt to changing priorities and make timely decisions and actions\n",
            "- Strong team player with excellent communication skills\n",
            "- Prioritize safety in all operational tasks\n",
            "- Efficient in operational tasks and ability to identify areas for improvement\n",
            "- Positive attitude and willingness to learn new skills\n",
            "- Respectful of others and able to work in a close-knit work environment\n",
            "\n",
            "At our company, we value our employees and believe that they shape the way technology is delivered. As an IT Services Provider, we offer our people the unique opportunity to work with some of the biggest names in the tech industry without sacrificing the open communication or the sense of community of a close-knit work environment. We are looking for a Logistics Operator L1 who shares our values and is committed to delivering exceptional service to our clients. If you are a hardworking, dedicated individual with a passion for logistics, we encourage you to apply for this exciting opportunity.\n"
          ]
        }
      ]
    },
    {
      "cell_type": "markdown",
      "source": [
        "Thoughts for improvements: \n",
        "\n",
        "\n",
        "*   Make the JSON keys more distinct, e.g.,\n",
        "*   Mix hard and soft skills\n",
        "*   Rewrite the outline of the discourse (the template here is summary-responsibility-qualification)\n",
        "*   Merge different drafts\n",
        "\n",
        "\n",
        "\n",
        "\n"
      ],
      "metadata": {
        "id": "9qSjgaalEuwb"
      }
    },
    {
      "cell_type": "markdown",
      "source": [
        "useful resource: https://www.youtube.com/watch?v=6MIt81Focss\n",
        "\n"
      ],
      "metadata": {
        "id": "rl5mTP0ZG0t_"
      }
    },
    {
      "cell_type": "markdown",
      "source": [
        "### 2. Write interview questions for jobs"
      ],
      "metadata": {
        "id": "ZO5aUr0zHKck"
      }
    },
    {
      "cell_type": "code",
      "source": [
        "job_description = f\"\"\"\n",
        "Duties\n",
        "* Work as part of a team of logistics operators who work together and independently\n",
        "* Ensure all operations are carried out in a proactive, compliant and effective manner\n",
        "* Ensure compliance of operational execution in line with Standard Operating Practices and Work Instructions.\n",
        "* Maintain strict inventory control and conduct accurate system transactions\n",
        "* Ensure accurate and timely shipments and receipts\n",
        "* Transport inventory by hand, material handling equipment (i.e. forklifts or pallet jacks) and box truck (No commercial driver’s license required) in accordance with all safety procedures and protocol\n",
        "* Complete other duties that may be assigned as required with consideration for quality, safety and efficiency\n",
        "* Commit to excellence in your contribution to overall Service Delivery\n",
        "* Work alongside Team members to assist in workload execution, monitor quality, observer areas for improvement and support service knowledge growth.\n",
        "* Ensure the maintenance of 5S standard within all operational areas.\n",
        "* Escalate all areas of service non-compliance in a timely and effective manner to support investigation and remediation\n",
        "* Participate in all assigned in training to support the execution of their assigned responsibilities.\n",
        "* Ensure proactive customer service support to the Client and other operational teams as required\n",
        "Basic qualifications:\n",
        "* Current valid driver’s license and ability to pass a Motor Vehicle Record Check\n",
        "* Ability to pass a Department of Transportation (DOT) Medical Card physical exam (US only)\n",
        "* Demonstrate a willingness to be challenged and learn new skills\n",
        "    * Inventory control skills, manage priorities and workflow \n",
        "    * Computer, iPad, and iPhone literate \n",
        "* Ability to work in a physical labor dynamic work environment\n",
        "* Ability to work with instruction as part of a larger team\n",
        "* Initiative to complete tasks as assigned independent of the team\n",
        "* Agility to manage changing workload priorities as directed\n",
        "* Ensure a positive, respectful, and professional attitude in everything you do\n",
        "* Competency in understanding and performing workplace safety basics\n",
        "* Good written and verbal communication skills\n",
        "* Excellent Customer Service skills\n",
        "* Able to safely lift and move a minimum of fifty (50) pounds and can stand the duration of the shift\n",
        "* Align with our Milestone Core Values of sense of urgency, collaboration, open honest respectful communication, do what we say and going above and beyond\n",
        "Preferred Qualifications\n",
        "* HS Diploma or GED \n",
        "* 1+ years of operations experience  \n",
        "* 1+ years of material handling in a warehouse, manufacturing, or distribution center environment\n",
        "* Proficient in Windows, Apple (Mac and iPad) and peripheral devices\n",
        "* Box truck driving experience\n",
        "* Forklift or electric pallet jack experience\n",
        "* Versatile, flexible, and a willing to work within constantly changing priorities with enthusiasm \n",
        "* Good judgment with the ability to make timely and sound decisions \n",
        "* Understand all safety requirements and cautions \n",
        "\"\"\"\n",
        "\n",
        "prompt = f\"\"\"\n",
        "Generate the top-25 technical interview questions for the job description below and sample answers:\n",
        "{job_description}\n",
        "\"\"\"\n",
        "\n",
        "response = get_completion(prompt,temperature=0)\n",
        "print(response)"
      ],
      "metadata": {
        "colab": {
          "base_uri": "https://localhost:8080/"
        },
        "id": "Z1h3QgGGHSqh",
        "outputId": "c1b123da-993e-4b13-fada-28f6e0044934"
      },
      "execution_count": 8,
      "outputs": [
        {
          "output_type": "stream",
          "name": "stdout",
          "text": [
            "1. Can you describe your experience with inventory control and management?\n",
            "Sample answer: In my previous role, I was responsible for maintaining accurate inventory records and conducting regular physical counts to ensure accuracy. I also implemented a system for tracking inventory levels and ordering new supplies when necessary to prevent stockouts.\n",
            "\n",
            "2. How do you ensure compliance with Standard Operating Practices and Work Instructions?\n",
            "Sample answer: I make sure to thoroughly review all SOPs and work instructions before beginning any task, and I follow them closely to ensure compliance. If I have any questions or concerns, I seek clarification from my supervisor before proceeding.\n",
            "\n",
            "3. Have you ever operated a forklift or pallet jack before? If so, can you describe your experience?\n",
            "Sample answer: Yes, I have experience operating both forklifts and pallet jacks. I am certified to operate both and have used them extensively in previous roles to move inventory and materials around a warehouse or distribution center.\n",
            "\n",
            "4. How do you prioritize your workload when you have multiple tasks to complete?\n",
            "Sample answer: I prioritize my workload based on urgency and importance. I make a list of all the tasks I need to complete and then rank them in order of priority. I also make sure to communicate with my supervisor if I need help or if there are any changes to my workload.\n",
            "\n",
            "5. Can you describe your experience with box truck driving?\n",
            "Sample answer: While I do not have extensive experience with box truck driving, I am comfortable driving them and have a valid driver's license. I am also willing to undergo any necessary training to improve my skills in this area.\n",
            "\n",
            "6. How do you ensure the accuracy and timeliness of shipments and receipts?\n",
            "Sample answer: I make sure to double-check all shipments and receipts for accuracy before processing them. I also communicate with the appropriate parties to ensure that everything is on track and that there are no delays or issues.\n",
            "\n",
            "7. How do you maintain strict inventory control and conduct accurate system transactions?\n",
            "Sample answer: I make sure to keep detailed records of all inventory movements and transactions, and I update the system in real-time to ensure accuracy. I also conduct regular physical counts to verify the accuracy of the system.\n",
            "\n",
            "8. Can you describe your experience with workplace safety basics?\n",
            "Sample answer: I have received training in workplace safety basics and am familiar with the proper use of personal protective equipment, safe lifting techniques, and other safety protocols. I make sure to follow all safety guidelines to prevent accidents and injuries.\n",
            "\n",
            "9. How do you handle changing workload priorities?\n",
            "Sample answer: I am adaptable and flexible, and I am able to shift my focus and priorities as needed to meet changing demands. I also communicate with my supervisor to ensure that I am working on the most important tasks at any given time.\n",
            "\n",
            "10. Can you describe your experience with customer service?\n",
            "Sample answer: I have excellent customer service skills and have worked in customer-facing roles in the past. I am able to communicate effectively with customers and provide them with the support they need to resolve any issues or concerns.\n",
            "\n",
            "11. How do you ensure a positive, respectful, and professional attitude in everything you do?\n",
            "Sample answer: I believe that a positive attitude is essential to success in any role, and I make a conscious effort to maintain a positive, respectful, and professional demeanor at all times. I treat others with kindness and respect and strive to be a team player.\n",
            "\n",
            "12. Can you describe your experience with Windows, Apple, and peripheral devices?\n",
            "Sample answer: I am proficient in using both Windows and Apple operating systems, as well as peripheral devices such as printers, scanners, and mobile devices. I am able to troubleshoot basic technical issues and am comfortable learning new software and systems.\n",
            "\n",
            "13. How do you ensure that you are aligned with the company's core values?\n",
            "Sample answer: I make sure to familiarize myself with the company's core values and strive to embody them in everything I do. I am committed to working with a sense of urgency, collaborating with others, communicating openly and honestly, following through on my commitments, and going above and beyond to exceed expectations.\n",
            "\n",
            "14. Can you describe your experience with material handling in a warehouse, manufacturing, or distribution center environment?\n",
            "Sample answer: I have over a year of experience working in a warehouse environment, where I was responsible for moving materials and inventory using forklifts, pallet jacks, and other equipment. I am familiar with the safety protocols and best practices for material handling in this type of environment.\n",
            "\n",
            "15. How do you ensure that you are working in a proactive, compliant, and effective manner?\n",
            "Sample answer: I make sure to stay up-to-date on all relevant policies, procedures, and regulations, and I follow them closely to ensure compliance. I also take a proactive approach to my work, anticipating potential issues and taking steps to prevent them before they occur.\n",
            "\n",
            "16. Can you describe your experience with 5S standards?\n",
            "Sample answer: I am familiar with the principles of 5S and have worked in environments where these standards were implemented. I understand the importance of maintaining a clean, organized, and efficient workspace and am committed to upholding these standards.\n",
            "\n",
            "17. How do you handle areas of service non-compliance?\n",
            "Sample answer: I escalate areas of service non-compliance to my supervisor in a timely and effective manner, providing as much detail as possible to support investigation and remediation. I also work with my team to identify areas for improvement and implement solutions to prevent future non-compliance.\n",
            "\n",
            "18. Can you describe your experience with physical labor in a dynamic work environment?\n",
            "Sample answer: I am comfortable working in a physically demanding environment and am able to safely lift and move a minimum of fifty pounds. I am also able to stand for the duration of my shift and am willing to work in a fast-paced, dynamic environment.\n",
            "\n",
            "19. How do you ensure that you are working effectively as part of a team?\n",
            "Sample answer: I communicate openly and honestly with my team members, seeking feedback and input to ensure that we are all working together effectively. I also make sure to contribute to the team's success by taking on tasks as needed and supporting my colleagues in their work.\n",
            "\n",
            "20. Can you describe your experience with managing priorities and workflow?\n",
            "Sample answer: I am skilled at managing priorities and workflow, using tools such as to-do lists and calendars to stay organized and on track. I am able to prioritize tasks based on urgency and importance and am comfortable working on multiple projects simultaneously.\n",
            "\n",
            "21. How do you ensure accurate system transactions?\n",
            "Sample answer: I make sure to double-check all system transactions for accuracy before processing them. I also keep detailed records of all inventory movements and transactions to ensure that the system is up-to-date and accurate.\n",
            "\n",
            "22. Can you describe your experience with conducting accurate physical counts?\n",
            "Sample answer: I have experience conducting regular physical counts to verify the accuracy of inventory records. I am able to use tools such as barcode scanners and spreadsheets to track inventory levels and identify discrepancies.\n",
            "\n",
            "23. How do you ensure proactive customer service support?\n",
            "Sample answer: I make sure to communicate regularly with customers and other operational teams to ensure that their needs are being met. I am proactive in identifying potential issues and taking steps to address them before they become problems.\n",
            "\n",
            "24. Can you describe your experience with making timely and sound decisions?\n",
            "Sample answer: I am able to make timely and sound decisions by gathering all the necessary information, weighing the pros and cons of each option, and consulting with my supervisor or colleagues as needed. I am also able to act quickly and decisively in emergency situations.\n",
            "\n",
            "25. How do you ensure that you are constantly learning and growing in your role?\n",
            "Sample answer: I am committed to ongoing learning and growth in my role, seeking out opportunities for training and development and staying up-to-date on industry trends and best practices. I also seek feedback from my supervisor and colleagues to identify areas for improvement and work to address them.\n"
          ]
        }
      ]
    },
    {
      "cell_type": "markdown",
      "source": [
        "### Synthesize post-interview feedback for hiring *managers*"
      ],
      "metadata": {
        "id": "KpoNB6H6T03g"
      }
    },
    {
      "cell_type": "code",
      "source": [
        "feedback1 = f\"\"\"\n",
        "I would like to provide feedback on the interview with the candidate for the HR Manager role. Overall, the candidate showcased a strong understanding of HR principles and demonstrated excellent communication skills throughout the interview. They were able to articulate their experience and expertise in handling various HR functions and displayed a thorough knowledge of relevant employment laws and regulations. Additionally, the candidate exhibited a professional and confident demeanor, which would be beneficial in managing employee relations and resolving conflicts within the organization. One area for improvement would be to provide more specific examples of successfully implementing HR strategies in previous roles. However, based on their qualifications, experience, and overall performance during the interview, I believe the candidate has the potential to excel in the HR Manager position.\n",
        "\"\"\"\n",
        "feedback2 = f\"\"\"\n",
        "I wanted to share my feedback regarding the candidate's interview for the HR Manager position. The candidate demonstrated strong leadership qualities and a strategic mindset. They exhibited a deep understanding of HR best practices and showcased their ability to develop effective policies and procedures. Furthermore, the candidate emphasized the importance of fostering a positive work culture and creating an inclusive environment. They displayed exceptional interpersonal skills, which would be crucial in building relationships with employees and stakeholders. However, one area of improvement would be to further enhance their knowledge of HR technology and systems to streamline processes and improve efficiency. Considering the candidate's extensive experience, qualifications, and their ability to effectively communicate their ideas, I believe they would be an asset to the organization in the HR Manager role.\n",
        "\"\"\"\n",
        "feedback3 = f\"\"\"\n",
        "I would like to provide my feedback on the candidate's interview for the HR Manager position. The candidate exhibited a strong passion for HR and demonstrated an impressive track record in managing various HR functions. They displayed exceptional problem-solving skills and emphasized the importance of data-driven decision-making in HR processes. During the interview, the candidate also highlighted their experience in implementing effective performance management systems and talent acquisition strategies. They showcased their ability to handle challenging employee situations with empathy and professionalism. However, it would be beneficial for the candidate to further develop their knowledge in HR compliance and stay updated on the latest labor laws and regulations. Overall, based on the candidate's expertise, experience, and their ability to effectively communicate their ideas, I believe they would be an excellent fit for the HR Manager role.\n",
        "\"\"\"\n",
        "\n",
        "prompt = f\"\"\"\n",
        "There are three post-interview feedbacks on the HR manager from Johnathon, Ravi, and Jack. \n",
        "\n",
        "Johnathon's feedback: {feedback1}\n",
        "\n",
        "Ravi's feedback: {feedback2}\n",
        "\n",
        "Jack's feedback: {feedback3}\n",
        "\n",
        "Provide a report to \\\n",
        "summarize the strengths and weaknesses of the cadidate. Then in another paragraph summarize what the interviewers \\ \n",
        "tend to vote yes or no to \\\n",
        "the cadidate in general. No more than 100 words.\n",
        "\n",
        "\"\"\"\n",
        "\n",
        "response = get_completion(prompt,temperature=0)\n",
        "print(response)\n",
        "\n",
        "\n",
        "# other thoughts: use chain-of-reasoning to give decision and the reason why"
      ],
      "metadata": {
        "colab": {
          "base_uri": "https://localhost:8080/"
        },
        "id": "gJQJEh_FT_Rr",
        "outputId": "283d2867-5e20-4a6b-e44a-b3fca3d45939"
      },
      "execution_count": 9,
      "outputs": [
        {
          "output_type": "stream",
          "name": "stdout",
          "text": [
            "Overall, the candidate for the HR Manager position demonstrated a strong understanding of HR principles, excellent communication skills, and exceptional problem-solving abilities. They exhibited a deep understanding of HR best practices, leadership qualities, and a strategic mindset. However, areas for improvement include providing more specific examples of successfully implementing HR strategies, enhancing their knowledge of HR technology and systems, and further developing their knowledge in HR compliance.\n",
            "\n",
            "Based on the feedback provided by the interviewers, it seems that they tend to vote yes to the candidate for the HR Manager position. The candidate's extensive experience, qualifications, and ability to effectively communicate their ideas make them an asset to the organization. While there are areas for improvement, the candidate's strengths outweigh their weaknesses, and they have the potential to excel in the role.\n"
          ]
        }
      ]
    },
    {
      "cell_type": "markdown",
      "source": [
        "# Marketing/Sales"
      ],
      "metadata": {
        "id": "MIIuo-M8L8lw"
      }
    },
    {
      "cell_type": "markdown",
      "source": [
        "### Summarize notes/thoughts/plans/feedback"
      ],
      "metadata": {
        "id": "PLwjGiu3bzlh"
      }
    },
    {
      "cell_type": "code",
      "source": [
        "sales_notes = f\"\"\"\n",
        "Post-Call Sales Notes - Robotic Process Automation Software\n",
        "\n",
        "Key Aspects Covered:\n",
        "During the call with the client, we discussed various aspects of our robotic process automation (RPA) software and its potential benefits for their organization. The key points covered were:\n",
        "\n",
        "1. Introduction to RPA: We provided an overview of RPA and its ability to automate repetitive and rule-based tasks, streamline processes, and improve operational efficiency.\n",
        "\n",
        "2. Customization and Scalability: We emphasized the flexibility of our RPA software, highlighting its ability to adapt to the client's specific business requirements and scale as their organization grows.\n",
        "\n",
        "3. Integration Capabilities: We discussed the software's seamless integration with existing systems and applications, ensuring minimal disruption to their current IT infrastructure.\n",
        "\n",
        "4. Return on Investment: We presented a detailed analysis of the potential cost savings and increased productivity that the client could achieve by implementing our RPA solution.\n",
        "\n",
        "What Went Well:\n",
        "The call went well overall, with several positive aspects worth noting:\n",
        "\n",
        "1. Engaged Client: The client showed genuine interest in our RPA software and actively participated in the conversation, asking insightful questions about its functionalities and implementation process.\n",
        "\n",
        "2. Clear Value Proposition: Our sales representative effectively communicated the unique selling points of our RPA software, highlighting its potential to streamline the client's operations, reduce errors, and improve overall efficiency.\n",
        "\n",
        "3. Industry Knowledge: Our sales representative demonstrated a deep understanding of the client's industry, showcasing how our RPA solution aligns with their specific pain points and business objectives.\n",
        "\n",
        "What Went Wrong:\n",
        "While the call was largely successful, a couple of areas could have been improved:\n",
        "\n",
        "1. Technical Glitch: There was a momentary disruption during the call due to technical issues, which led to a brief interruption in communication. However, our representative quickly resolved the problem, and the call resumed smoothly.\n",
        "\n",
        "2. Limited Discussion on Implementation Challenges: We could have provided more insights into the potential challenges that the client might face during the implementation phase. This information would have set realistic expectations and allowed for a more comprehensive understanding of the software's deployment process.\n",
        "\n",
        "Client Feedback:\n",
        "The client expressed their appreciation for the thorough explanation of our RPA software's capabilities and potential benefits. They acknowledged its potential to enhance their operational efficiency and reduce manual errors. They requested a follow-up demonstration to gain a deeper understanding of the software's functionalities and its direct applicability to their business processes.\n",
        "\n",
        "Overall, the call was successful in capturing the client's interest and highlighting the value proposition of our RPA software. The client's positive feedback and interest in a further demonstration indicate a promising opportunity for potential collaboration.\n",
        "\n",
        "Note: The post-call sales notes should be customized to reflect the specific details and feedback received during the call.\n",
        "\"\"\"\n",
        "\n",
        "prompt = f\"\"\"\n",
        "Provide a short on the feedback of the sales call. Focus on the negative feedback and plan or initiatives to make improvement.\\\n",
        "No more than 100 words.\n",
        "\n",
        "- Feedback notes: {sales_notes }\\\n",
        "\"\"\"\n",
        "\n",
        "response = get_completion(prompt,temperature=0)\n",
        "print(response)"
      ],
      "metadata": {
        "id": "Lcog-aD7L9h0",
        "colab": {
          "base_uri": "https://localhost:8080/"
        },
        "outputId": "78985697-ad22-4d3b-f465-8078afdba4be"
      },
      "execution_count": 11,
      "outputs": [
        {
          "output_type": "stream",
          "name": "stdout",
          "text": [
            "To improve future sales calls, we will address the technical glitch by conducting a pre-call technical check to ensure smooth communication. We will also provide more insights into the implementation challenges and potential solutions to set realistic expectations. Additionally, we will focus on actively listening to the client's needs and pain points to tailor our presentation accordingly. Finally, we will schedule a follow-up demonstration to provide a more in-depth understanding of the software's functionalities and its direct applicability to their business processes.\n"
          ]
        }
      ]
    },
    {
      "cell_type": "code",
      "source": [],
      "metadata": {
        "id": "eHgmE7RxMFuc"
      },
      "execution_count": 9,
      "outputs": []
    }
  ]
}