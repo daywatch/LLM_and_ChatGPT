{
 "cells": [
  {
   "cell_type": "markdown",
   "id": "fc3024e2",
   "metadata": {},
   "source": [
    "# Lesson 3: Reflection and Blogpost Writing"
   ]
  },
  {
   "cell_type": "markdown",
   "id": "3b0cc42f",
   "metadata": {},
   "source": [
    "## Setup"
   ]
  },
  {
   "cell_type": "code",
   "execution_count": 1,
   "id": "96d39be0-eaf3-456d-8613-ba21099ed36b",
   "metadata": {
    "height": 30
   },
   "outputs": [],
   "source": [
    "llm_config = {\"model\": \"gpt-3.5-turbo\"}"
   ]
  },
  {
   "cell_type": "markdown",
   "id": "0969e6bb",
   "metadata": {},
   "source": [
    "## The task!"
   ]
  },
  {
   "cell_type": "code",
   "execution_count": 2,
   "id": "e8074032-3690-4de9-ad08-ea8323cb441b",
   "metadata": {
    "height": 115
   },
   "outputs": [],
   "source": [
    "task = '''\n",
    "        Write a concise but engaging blogpost about\n",
    "       DeepLearning.AI. Make sure the blogpost is\n",
    "       within 100 words.\n",
    "       '''\n"
   ]
  },
  {
   "cell_type": "markdown",
   "id": "1987f023",
   "metadata": {},
   "source": [
    "## Create a writer agent"
   ]
  },
  {
   "cell_type": "code",
   "execution_count": 3,
   "id": "fe0f0a47-a9fe-43a0-b7b1-79922e4c4ac8",
   "metadata": {
    "height": 183
   },
   "outputs": [],
   "source": [
    "import autogen\n",
    "\n",
    "writer = autogen.AssistantAgent(\n",
    "    name=\"Writer\",\n",
    "    system_message=\"You are a writer. You write engaging and concise \" \n",
    "        \"blogpost (with title) on given topics. You must polish your \"\n",
    "        \"writing based on the feedback you receive and give a refined \"\n",
    "        \"version. Only return your final work without additional comments.\",\n",
    "    llm_config=llm_config,\n",
    ")"
   ]
  },
  {
   "cell_type": "code",
   "execution_count": 4,
   "id": "7c7b4d8d-40f7-4a05-8958-25d20054de3a",
   "metadata": {
    "height": 30
   },
   "outputs": [],
   "source": [
    "reply = writer.generate_reply(messages=[{\"content\": task, \"role\": \"user\"}])"
   ]
  },
  {
   "cell_type": "code",
   "execution_count": 5,
   "id": "c501c97d-e338-4f36-a384-6ec45983cf77",
   "metadata": {
    "height": 30
   },
   "outputs": [
    {
     "name": "stdout",
     "output_type": "stream",
     "text": [
      "Title: Unveiling the Power of DeepLearning.AI\n",
      "\n",
      "Embark on a transformative journey with DeepLearning.AI, a premier platform reshaping the landscape of artificial intelligence. Offering cutting-edge courses curated by the world-renowned expert Andrew Ng, DeepLearning.AI equips learners with the skills to thrive in the AI-driven world. Whether you aim to delve into Neural Networks, Machine Learning, or Natural Language Processing, this platform caters to all. Elevate your understanding of AI technologies and unlock exciting career opportunities. Join DeepLearning.AI today and unleash your potential in this dynamic field. Dive deep into the realm of AI and let your knowledge flourish with DeepLearning.AI.\n"
     ]
    }
   ],
   "source": [
    "print(reply)"
   ]
  },
  {
   "cell_type": "markdown",
   "id": "49658114",
   "metadata": {},
   "source": [
    "## Adding reflection \n",
    "\n",
    "Create a critic agent to reflect on the work of the writer agent."
   ]
  },
  {
   "cell_type": "code",
   "execution_count": 6,
   "id": "c7fcd1c7-51ec-4915-8e97-bac03565c4c7",
   "metadata": {
    "height": 149
   },
   "outputs": [],
   "source": [
    "critic = autogen.AssistantAgent(\n",
    "    name=\"Critic\",\n",
    "    is_termination_msg=lambda x: x.get(\"content\", \"\").find(\"TERMINATE\") >= 0,\n",
    "    llm_config=llm_config,\n",
    "    system_message=\"You are a critic. You review the work of \"\n",
    "                \"the writer and provide constructive \"\n",
    "                \"feedback to help improve the quality of the content.\",\n",
    ")"
   ]
  },
  {
   "cell_type": "code",
   "execution_count": 7,
   "id": "899d5fdb-6081-470b-b287-8cf8b8142d0d",
   "metadata": {
    "height": 115
   },
   "outputs": [
    {
     "name": "stdout",
     "output_type": "stream",
     "text": [
      "\u001b[33mCritic\u001b[0m (to Writer):\n",
      "\n",
      "\n",
      "        Write a concise but engaging blogpost about\n",
      "       DeepLearning.AI. Make sure the blogpost is\n",
      "       within 100 words.\n",
      "       \n",
      "\n",
      "--------------------------------------------------------------------------------\n",
      "\u001b[33mWriter\u001b[0m (to Critic):\n",
      "\n",
      "Title: Unveiling the Power of DeepLearning.AI\n",
      "\n",
      "Embark on a transformative journey with DeepLearning.AI, a premier platform reshaping the landscape of artificial intelligence. Offering cutting-edge courses curated by the world-renowned expert Andrew Ng, DeepLearning.AI equips learners with the skills to thrive in the AI-driven world. Whether you aim to delve into Neural Networks, Machine Learning, or Natural Language Processing, this platform caters to all. Elevate your understanding of AI technologies and unlock exciting career opportunities. Join DeepLearning.AI today and unleash your potential in this dynamic field. Dive deep into the realm of AI and let your knowledge flourish with DeepLearning.AI.\n",
      "\n",
      "--------------------------------------------------------------------------------\n",
      "\u001b[33mCritic\u001b[0m (to Writer):\n",
      "\n",
      "The blog post is concise and engaging, effectively showcasing the benefits of DeepLearning.AI and enticing readers to explore the platform. However, to improve the quality further, consider adding specific examples of the courses offered or success stories from learners who have benefited from the platform. Additionally, incorporating statistics or data on the impact of DeepLearning.AI in the field of artificial intelligence could enhance the credibility of the post. Overall, great start, but fleshing out with more specific details and evidence would make it even stronger.\n",
      "\n",
      "--------------------------------------------------------------------------------\n",
      "\u001b[33mWriter\u001b[0m (to Critic):\n",
      "\n",
      "Title: Unleashing the Potential of DeepLearning.AI\n",
      "\n",
      "Journey through cutting-edge AI realms with DeepLearning.AI, crafted by renowned expert Andrew Ng. Explore Neural Networks, Machine Learning, and NLP, propelling your career into the AI era. Dive deep into courses like \"AI For Everyone\" or \"Neural Networks and Deep Learning,\" bridging the gap between ambition and expertise. Join a community where success stories breathe life into dreams; where learners evolve into AI innovators. With over 2.5 million students worldwide, DeepLearning.AI isn't just a platform—it's a movement shaping the future. Seize the opportunity, embrace the journey, and let DeepLearning.AI redefine your AI prowess.\n",
      "\n",
      "--------------------------------------------------------------------------------\n"
     ]
    }
   ],
   "source": [
    "res = critic.initiate_chat(\n",
    "    recipient=writer,\n",
    "    message=task,\n",
    "    max_turns=2,\n",
    "    summary_method=\"last_msg\"\n",
    ")"
   ]
  },
  {
   "cell_type": "markdown",
   "id": "e7b76449",
   "metadata": {},
   "source": [
    "## Nested chat"
   ]
  },
  {
   "cell_type": "code",
   "execution_count": 8,
   "id": "401ecf92-63e9-40ff-aeed-1c404352e4ab",
   "metadata": {
    "height": 200
   },
   "outputs": [],
   "source": [
    "SEO_reviewer = autogen.AssistantAgent(\n",
    "    name=\"SEO Reviewer\",\n",
    "    llm_config=llm_config,\n",
    "    system_message=\"You are an SEO reviewer, known for \"\n",
    "        \"your ability to optimize content for search engines, \"\n",
    "        \"ensuring that it ranks well and attracts organic traffic. \" \n",
    "        \"Make sure your suggestion is concise (within 3 bullet points), \"\n",
    "        \"concrete and to the point. \"\n",
    "        \"Begin the review by stating your role.\",\n",
    ")\n"
   ]
  },
  {
   "cell_type": "code",
   "execution_count": 9,
   "id": "f85acb81-7ab9-4c84-b8bb-6fbae3dce848",
   "metadata": {
    "height": 183
   },
   "outputs": [],
   "source": [
    "legal_reviewer = autogen.AssistantAgent(\n",
    "    name=\"Legal Reviewer\",\n",
    "    llm_config=llm_config,\n",
    "    system_message=\"You are a legal reviewer, known for \"\n",
    "        \"your ability to ensure that content is legally compliant \"\n",
    "        \"and free from any potential legal issues. \"\n",
    "        \"Make sure your suggestion is concise (within 3 bullet points), \"\n",
    "        \"concrete and to the point. \"\n",
    "        \"Begin the review by stating your role.\",\n",
    ")"
   ]
  },
  {
   "cell_type": "code",
   "execution_count": 10,
   "id": "d46a177a-8088-4956-8d2b-3e916b8ca5e9",
   "metadata": {
    "height": 183
   },
   "outputs": [],
   "source": [
    "ethics_reviewer = autogen.AssistantAgent(\n",
    "    name=\"Ethics Reviewer\",\n",
    "    llm_config=llm_config,\n",
    "    system_message=\"You are an ethics reviewer, known for \"\n",
    "        \"your ability to ensure that content is ethically sound \"\n",
    "        \"and free from any potential ethical issues. \" \n",
    "        \"Make sure your suggestion is concise (within 3 bullet points), \"\n",
    "        \"concrete and to the point. \"\n",
    "        \"Begin the review by stating your role. \",\n",
    ")"
   ]
  },
  {
   "cell_type": "code",
   "execution_count": 11,
   "id": "a7b2ad6f-8ba6-436a-9459-14ffbe8a32d3",
   "metadata": {
    "height": 115
   },
   "outputs": [],
   "source": [
    "meta_reviewer = autogen.AssistantAgent(\n",
    "    name=\"Meta Reviewer\",\n",
    "    llm_config=llm_config,\n",
    "    system_message=\"You are a meta reviewer, you aggragate and review \"\n",
    "    \"the work of other reviewers and give a final suggestion on the content.\",\n",
    ")"
   ]
  },
  {
   "cell_type": "markdown",
   "id": "913beca1",
   "metadata": {},
   "source": [
    "## Orchestrate the nested chats to solve the task"
   ]
  },
  {
   "cell_type": "code",
   "execution_count": 12,
   "id": "a11a70c7-19ca-4e5a-ad3d-f2b481fb5915",
   "metadata": {
    "height": 540
   },
   "outputs": [],
   "source": [
    "def reflection_message(recipient, messages, sender, config):\n",
    "    return f'''Review the following content. \n",
    "            \\n\\n {recipient.chat_messages_for_summary(sender)[-1]['content']}'''\n",
    "\n",
    "review_chats = [\n",
    "    {\n",
    "     \"recipient\": SEO_reviewer, \n",
    "     \"message\": reflection_message, \n",
    "     \"summary_method\": \"reflection_with_llm\",\n",
    "     \"summary_args\": {\"summary_prompt\" : \n",
    "        \"Return review into as JSON object only:\"\n",
    "        \"{'Reviewer': '', 'Review': ''}. Here Reviewer should be your role\",},\n",
    "     \"max_turns\": 1},\n",
    "    {\n",
    "    \"recipient\": legal_reviewer, \"message\": reflection_message, \n",
    "     \"summary_method\": \"reflection_with_llm\",\n",
    "     \"summary_args\": {\"summary_prompt\" : \n",
    "        \"Return review into as JSON object only:\"\n",
    "        \"{'Reviewer': '', 'Review': ''}.\",},\n",
    "     \"max_turns\": 1},\n",
    "    {\"recipient\": ethics_reviewer, \"message\": reflection_message, \n",
    "     \"summary_method\": \"reflection_with_llm\",\n",
    "     \"summary_args\": {\"summary_prompt\" : \n",
    "        \"Return review into as JSON object only:\"\n",
    "        \"{'reviewer': '', 'review': ''}\",},\n",
    "     \"max_turns\": 1},\n",
    "     {\"recipient\": meta_reviewer, \n",
    "      \"message\": \"Aggregrate feedback from all reviewers and give final suggestions on the writing.\", \n",
    "     \"max_turns\": 1},\n",
    "]\n"
   ]
  },
  {
   "cell_type": "code",
   "execution_count": 13,
   "id": "b3a40b66-5061-460d-ad9d-c0dbcfbba2e9",
   "metadata": {
    "height": 81
   },
   "outputs": [],
   "source": [
    "critic.register_nested_chats(\n",
    "    review_chats,\n",
    "    trigger=writer,\n",
    ")"
   ]
  },
  {
   "cell_type": "markdown",
   "id": "43b8797d",
   "metadata": {},
   "source": [
    "**Note**: You might get a slightly different response than what's shown in the video. Feel free to try different task."
   ]
  },
  {
   "cell_type": "code",
   "execution_count": 14,
   "id": "3b8dcac3-1e72-43b7-9d5a-1be740f6efd5",
   "metadata": {
    "height": 115
   },
   "outputs": [
    {
     "name": "stdout",
     "output_type": "stream",
     "text": [
      "\u001b[33mCritic\u001b[0m (to Writer):\n",
      "\n",
      "\n",
      "        Write a concise but engaging blogpost about\n",
      "       DeepLearning.AI. Make sure the blogpost is\n",
      "       within 100 words.\n",
      "       \n",
      "\n",
      "--------------------------------------------------------------------------------\n",
      "\u001b[33mWriter\u001b[0m (to Critic):\n",
      "\n",
      "Title: Unveiling the Power of DeepLearning.AI\n",
      "\n",
      "Embark on a transformative journey with DeepLearning.AI, a premier platform reshaping the landscape of artificial intelligence. Offering cutting-edge courses curated by the world-renowned expert Andrew Ng, DeepLearning.AI equips learners with the skills to thrive in the AI-driven world. Whether you aim to delve into Neural Networks, Machine Learning, or Natural Language Processing, this platform caters to all. Elevate your understanding of AI technologies and unlock exciting career opportunities. Join DeepLearning.AI today and unleash your potential in this dynamic field. Dive deep into the realm of AI and let your knowledge flourish with DeepLearning.AI.\n",
      "\n",
      "--------------------------------------------------------------------------------\n",
      "\u001b[34m\n",
      "********************************************************************************\u001b[0m\n",
      "\u001b[34mStarting a new chat....\u001b[0m\n",
      "\u001b[34m\n",
      "********************************************************************************\u001b[0m\n",
      "\u001b[33mCritic\u001b[0m (to SEO Reviewer):\n",
      "\n",
      "Review the following content. \n",
      "            \n",
      "\n",
      " Title: Unveiling the Power of DeepLearning.AI\n",
      "\n",
      "Embark on a transformative journey with DeepLearning.AI, a premier platform reshaping the landscape of artificial intelligence. Offering cutting-edge courses curated by the world-renowned expert Andrew Ng, DeepLearning.AI equips learners with the skills to thrive in the AI-driven world. Whether you aim to delve into Neural Networks, Machine Learning, or Natural Language Processing, this platform caters to all. Elevate your understanding of AI technologies and unlock exciting career opportunities. Join DeepLearning.AI today and unleash your potential in this dynamic field. Dive deep into the realm of AI and let your knowledge flourish with DeepLearning.AI.\n",
      "\n",
      "--------------------------------------------------------------------------------\n",
      "\u001b[33mSEO Reviewer\u001b[0m (to Critic):\n",
      "\n",
      "As an SEO reviewer:\n",
      "\n",
      "1. **Target Keywords:** Incorporate relevant keywords like \"DeepLearning.AI\", \"Andrew Ng\", \"AI technologies\", \"career opportunities in AI\", etc., to improve search engine visibility.\n",
      "  \n",
      "2. **Meta Tags Optimization:** Enhance meta title and description to include keywords and call-to-action phrases for a higher click-through rate in search results.\n",
      "  \n",
      "3. **Internal Linking:** Add internal links to related courses or resources within the content to improve website navigation and encourage users to explore more pages.\n",
      "\n",
      "--------------------------------------------------------------------------------\n",
      "\u001b[34m\n",
      "********************************************************************************\u001b[0m\n",
      "\u001b[34mStarting a new chat....\u001b[0m\n",
      "\u001b[34m\n",
      "********************************************************************************\u001b[0m\n",
      "\u001b[33mCritic\u001b[0m (to Legal Reviewer):\n",
      "\n",
      "Review the following content. \n",
      "            \n",
      "\n",
      " Title: Unveiling the Power of DeepLearning.AI\n",
      "\n",
      "Embark on a transformative journey with DeepLearning.AI, a premier platform reshaping the landscape of artificial intelligence. Offering cutting-edge courses curated by the world-renowned expert Andrew Ng, DeepLearning.AI equips learners with the skills to thrive in the AI-driven world. Whether you aim to delve into Neural Networks, Machine Learning, or Natural Language Processing, this platform caters to all. Elevate your understanding of AI technologies and unlock exciting career opportunities. Join DeepLearning.AI today and unleash your potential in this dynamic field. Dive deep into the realm of AI and let your knowledge flourish with DeepLearning.AI.\n",
      "Context: \n",
      "{\n",
      "  'Reviewer': 'SEO Analyst',\n",
      "  'Review': 'The content does not include target keywords, meta tags optimization, and internal linking strategies to improve SEO performance. It's recommended to enhance these aspects for better search engine visibility and user engagement.'\n",
      "}\n",
      "\n",
      "--------------------------------------------------------------------------------\n",
      "\u001b[33mLegal Reviewer\u001b[0m (to Critic):\n",
      "\n",
      "As a Legal Reviewer, my role is to ensure legal compliance in content. \n",
      "\n",
      "Suggestions:\n",
      "1. Ensure that all claims made about DeepLearning.AI, Andrew Ng, and the platform's offerings are accurate and backed up by verifiable information.\n",
      "2. Avoid making exaggerated or unsubstantiated statements about the effectiveness or outcomes of using DeepLearning.AI to avoid misleading consumers.\n",
      "3. Review the content for any potential intellectual property issues, such as trademark infringement or unauthorized use of copyrighted material related to AI technologies.\n",
      "\n",
      "--------------------------------------------------------------------------------\n",
      "\u001b[34m\n",
      "********************************************************************************\u001b[0m\n",
      "\u001b[34mStarting a new chat....\u001b[0m\n",
      "\u001b[34m\n",
      "********************************************************************************\u001b[0m\n",
      "\u001b[33mCritic\u001b[0m (to Ethics Reviewer):\n",
      "\n",
      "Review the following content. \n",
      "            \n",
      "\n",
      " Title: Unveiling the Power of DeepLearning.AI\n",
      "\n",
      "Embark on a transformative journey with DeepLearning.AI, a premier platform reshaping the landscape of artificial intelligence. Offering cutting-edge courses curated by the world-renowned expert Andrew Ng, DeepLearning.AI equips learners with the skills to thrive in the AI-driven world. Whether you aim to delve into Neural Networks, Machine Learning, or Natural Language Processing, this platform caters to all. Elevate your understanding of AI technologies and unlock exciting career opportunities. Join DeepLearning.AI today and unleash your potential in this dynamic field. Dive deep into the realm of AI and let your knowledge flourish with DeepLearning.AI.\n",
      "Context: \n",
      "{\n",
      "  'Reviewer': 'SEO Analyst',\n",
      "  'Review': 'The content does not include target keywords, meta tags optimization, and internal linking strategies to improve SEO performance. It's recommended to enhance these aspects for better search engine visibility and user engagement.'\n",
      "}\n",
      "{'Reviewer': 'Legal Reviewer', 'Review': 'Ensure that all claims made about DeepLearning.AI, Andrew Ng, and the platform's offerings are accurate and backed up by verifiable information. Avoid making exaggerated or unsubstantiated statements about the effectiveness or outcomes of using DeepLearning.AI to avoid misleading consumers. Review the content for any potential intellectual property issues, such as trademark infringement or unauthorized use of copyrighted material related to AI technologies.'}\n",
      "\n",
      "--------------------------------------------------------------------------------\n",
      "\u001b[33mEthics Reviewer\u001b[0m (to Critic):\n",
      "\n",
      "As an ethics reviewer, my role is to ensure that content is ethically sound and free from any potential ethical issues.\n",
      "\n",
      "- Avoid using exaggerated or unsubstantiated claims about DeepLearning.AI, Andrew Ng, or the platform's offerings to prevent misleading consumers.\n",
      "- Verify all information presented about the platform and its courses to ensure accuracy and avoid potential intellectual property issues.\n",
      "- Ensure that the content does not infringe on any trademarks or unauthorized use of copyrighted material related to AI technologies.\n",
      "\n",
      "--------------------------------------------------------------------------------\n",
      "\u001b[34m\n",
      "********************************************************************************\u001b[0m\n",
      "\u001b[34mStarting a new chat....\u001b[0m\n",
      "\u001b[34m\n",
      "********************************************************************************\u001b[0m\n",
      "\u001b[33mCritic\u001b[0m (to Meta Reviewer):\n",
      "\n",
      "Aggregrate feedback from all reviewers and give final suggestions on the writing.\n",
      "Context: \n",
      "{\n",
      "  'Reviewer': 'SEO Analyst',\n",
      "  'Review': 'The content does not include target keywords, meta tags optimization, and internal linking strategies to improve SEO performance. It's recommended to enhance these aspects for better search engine visibility and user engagement.'\n",
      "}\n",
      "{'Reviewer': 'Legal Reviewer', 'Review': 'Ensure that all claims made about DeepLearning.AI, Andrew Ng, and the platform's offerings are accurate and backed up by verifiable information. Avoid making exaggerated or unsubstantiated statements about the effectiveness or outcomes of using DeepLearning.AI to avoid misleading consumers. Review the content for any potential intellectual property issues, such as trademark infringement or unauthorized use of copyrighted material related to AI technologies.'}\n",
      "{'reviewer': 'Ethics Reviewer', 'review': '- Avoid using exaggerated or unsubstantiated claims about DeepLearning.AI, Andrew Ng, or the platform\\'s offerings to prevent misleading consumers.\\n- Verify all information presented about the platform and its courses to ensure accuracy and avoid potential intellectual property issues.\\n- Ensure that the content does not infringe on any trademarks or unauthorized use of copyrighted material related to AI technologies.'}\n"
     ]
    },
    {
     "name": "stdout",
     "output_type": "stream",
     "text": [
      "\n",
      "--------------------------------------------------------------------------------\n",
      "\u001b[33mMeta Reviewer\u001b[0m (to Critic):\n",
      "\n",
      "After aggregating feedback from all reviewers, here are the key points to consider for improving the writing:\n",
      "\n",
      "1. **SEO Optimization**:\n",
      "   - Include target keywords, optimize meta tags, and implement internal linking strategies to enhance SEO performance. This will improve search engine visibility and user engagement.\n",
      "\n",
      "2. **Accuracy and Verifiability**:\n",
      "   - Ensure all claims made about DeepLearning.AI, Andrew Ng, and the platform's offerings are accurate and backed up by verifiable information. Avoid exaggerated or unsubstantiated statements to prevent misleading consumers.\n",
      "\n",
      "3. **Intellectual Property Concerns**:\n",
      "   - Review the content for any potential intellectual property issues, such as trademark infringement or unauthorized use of copyrighted material related to AI technologies. Ensure that the content does not infringe on any trademarks or copyrighted material.\n",
      "\n",
      "4. **Ethical Considerations**:\n",
      "   - Avoid using exaggerated or unsubstantiated claims to prevent misleading consumers. Verify all information presented for accuracy and adhere to ethical standards in content creation.\n",
      "\n",
      "Overall, it's crucial to focus on enhancing SEO elements, maintaining accuracy, and adhering to ethical and legal standards in the content. By addressing these aspects, the writing can effectively communicate the information about DeepLearning.AI while improving its overall quality and credibility.\n",
      "\n",
      "--------------------------------------------------------------------------------\n",
      "\u001b[33mCritic\u001b[0m (to Writer):\n",
      "\n",
      "After aggregating feedback from all reviewers, here are the key points to consider for improving the writing:\n",
      "\n",
      "1. **SEO Optimization**:\n",
      "   - Include target keywords, optimize meta tags, and implement internal linking strategies to enhance SEO performance. This will improve search engine visibility and user engagement.\n",
      "\n",
      "2. **Accuracy and Verifiability**:\n",
      "   - Ensure all claims made about DeepLearning.AI, Andrew Ng, and the platform's offerings are accurate and backed up by verifiable information. Avoid exaggerated or unsubstantiated statements to prevent misleading consumers.\n",
      "\n",
      "3. **Intellectual Property Concerns**:\n",
      "   - Review the content for any potential intellectual property issues, such as trademark infringement or unauthorized use of copyrighted material related to AI technologies. Ensure that the content does not infringe on any trademarks or copyrighted material.\n",
      "\n",
      "4. **Ethical Considerations**:\n",
      "   - Avoid using exaggerated or unsubstantiated claims to prevent misleading consumers. Verify all information presented for accuracy and adhere to ethical standards in content creation.\n",
      "\n",
      "Overall, it's crucial to focus on enhancing SEO elements, maintaining accuracy, and adhering to ethical and legal standards in the content. By addressing these aspects, the writing can effectively communicate the information about DeepLearning.AI while improving its overall quality and credibility.\n",
      "\n",
      "--------------------------------------------------------------------------------\n",
      "\u001b[33mWriter\u001b[0m (to Critic):\n",
      "\n",
      "Title: Unleashing the Potential of DeepLearning.AI: A Comprehensive Review\n",
      "\n",
      "Embark on an enriching journey with DeepLearning.AI, a leading platform revolutionizing the realm of artificial intelligence. Developed by the esteemed expert Andrew Ng, this platform offers a wealth of transformative courses designed to empower learners in the AI domain. Explore an array of topics from Neural Networks to Natural Language Processing, honing your skills for a future-driven career. Dive deep into the world of AI with confidence, as DeepLearning.AI equips you with the knowledge needed to excel. Join today and embark on a learning experience that will reshape your future in AI.\n",
      "\n",
      "--------------------------------------------------------------------------------\n"
     ]
    }
   ],
   "source": [
    "res = critic.initiate_chat(\n",
    "    recipient=writer,\n",
    "    message=task,\n",
    "    max_turns=2,\n",
    "    summary_method=\"last_msg\"\n",
    ")"
   ]
  },
  {
   "cell_type": "markdown",
   "id": "c5c833b0",
   "metadata": {},
   "source": [
    "## Get the summary"
   ]
  },
  {
   "cell_type": "code",
   "execution_count": 15,
   "id": "68ef82ed-f102-4964-b7be-60e2f258a39b",
   "metadata": {
    "height": 30
   },
   "outputs": [
    {
     "name": "stdout",
     "output_type": "stream",
     "text": [
      "Title: Unleashing the Potential of DeepLearning.AI: A Comprehensive Review\n",
      "\n",
      "Embark on an enriching journey with DeepLearning.AI, a leading platform revolutionizing the realm of artificial intelligence. Developed by the esteemed expert Andrew Ng, this platform offers a wealth of transformative courses designed to empower learners in the AI domain. Explore an array of topics from Neural Networks to Natural Language Processing, honing your skills for a future-driven career. Dive deep into the world of AI with confidence, as DeepLearning.AI equips you with the knowledge needed to excel. Join today and embark on a learning experience that will reshape your future in AI.\n"
     ]
    }
   ],
   "source": [
    "print(res.summary)"
   ]
  }
 ],
 "metadata": {
  "kernelspec": {
   "display_name": "Python 3 (ipykernel)",
   "language": "python",
   "name": "python3"
  },
  "language_info": {
   "codemirror_mode": {
    "name": "ipython",
    "version": 3
   },
   "file_extension": ".py",
   "mimetype": "text/x-python",
   "name": "python",
   "nbconvert_exporter": "python",
   "pygments_lexer": "ipython3",
   "version": "3.11.9"
  }
 },
 "nbformat": 4,
 "nbformat_minor": 5
}
