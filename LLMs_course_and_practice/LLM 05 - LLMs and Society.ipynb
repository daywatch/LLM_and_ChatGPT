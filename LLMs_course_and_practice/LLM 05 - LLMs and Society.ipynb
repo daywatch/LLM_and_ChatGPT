{
 "cells": [
  {
   "cell_type": "markdown",
   "metadata": {
    "application/vnd.databricks.v1+cell": {
     "cellMetadata": {},
     "inputWidgets": {},
     "nuid": "c88f0077-784a-41d7-8003-19d315f1f903",
     "showTitle": false,
     "title": ""
    }
   },
   "source": [
    "-sandbox\n",
    "\n",
    "<div style=\"text-align: center; line-height: 0; padding-top: 9px;\">\n",
    "  <img src=\"https://databricks.com/wp-content/uploads/2018/03/db-academy-rgb-1200px.png\" alt=\"Databricks Learning\" style=\"width: 600px\">\n",
    "</div>"
   ]
  },
  {
   "cell_type": "markdown",
   "metadata": {
    "application/vnd.databricks.v1+cell": {
     "cellMetadata": {},
     "inputWidgets": {},
     "nuid": "0e63a616-afd5-4daf-9ced-f4a3f3bf5147",
     "showTitle": false,
     "title": ""
    }
   },
   "source": [
    "# LLMs and Society\n",
    "\n",
    "### ![Dolly](https://files.training.databricks.com/images/llm/dolly_small.png) Learning Objectives\n",
    "1. Learn representation bias in training data \n",
    "1. Use Hugging Face to calculate toxicity score\n",
    "1. Use SHAP to generate explanation on model output\n",
    "1. Learn the latest state of research in model explanation: contrastive explanation"
   ]
  },
  {
   "cell_type": "markdown",
   "metadata": {
    "application/vnd.databricks.v1+cell": {
     "cellMetadata": {},
     "inputWidgets": {},
     "nuid": "6282005b-441f-4423-aa00-6880dfb627ba",
     "showTitle": false,
     "title": ""
    }
   },
   "source": [
    "## Classroom Setup"
   ]
  },
  {
   "cell_type": "code",
   "execution_count": 0,
   "metadata": {
    "application/vnd.databricks.v1+cell": {
     "cellMetadata": {},
     "inputWidgets": {},
     "nuid": "6029ae0e-f819-4e44-baea-5d477d04cdbc",
     "showTitle": false,
     "title": ""
    }
   },
   "outputs": [],
   "source": [
    "%pip install disaggregators==0.1.2 https://github.com/explosion/spacy-models/releases/download/en_core_web_lg-3.5.0/en_core_web_lg-3.5.0-py3-none-any.whl"
   ]
  },
  {
   "cell_type": "code",
   "execution_count": 0,
   "metadata": {
    "application/vnd.databricks.v1+cell": {
     "cellMetadata": {},
     "inputWidgets": {},
     "nuid": "f031ec78-567f-48f0-b7fb-f465f1d4e79e",
     "showTitle": false,
     "title": ""
    }
   },
   "outputs": [],
   "source": [
    "%run ../Includes/Classroom-Setup"
   ]
  },
  {
   "cell_type": "markdown",
   "metadata": {
    "application/vnd.databricks.v1+cell": {
     "cellMetadata": {},
     "inputWidgets": {},
     "nuid": "65264f00-ed02-4cd6-9b72-f07e94b60bd9",
     "showTitle": false,
     "title": ""
    }
   },
   "source": [
    "## Examining representation bias in Wikipedia biographies\n",
    "\n",
    "[Disaggregators](https://github.com/huggingface/disaggregators) is a library developed by Hugging Face. As the name implies, it \"dis-aggregates\" data so that we can explore the data in more granular detail and evaluate data bias.\n",
    "\n",
    "There are multiple disaggregation modules available: \n",
    "- age\n",
    "- gender\n",
    "- religion\n",
    "- continent\n",
    "- pronoun\n",
    "\n",
    "We will be loading Wikipedia bios as our datasets to analyze later. We will be using the `pronoun` module since it takes the least amount of time to dis-aggregate. You are welcome to try out other modules in your own time. \n",
    "\n",
    "**DISCLAIMER**: \n",
    "- Warning: Some content may be triggering.\n",
    "- The models developed or used in this course are for demonstration and learning purposes only. Models may occasionally output offensive, inaccurate, biased information, or harmful instructions.\n",
    "\n",
    "\n",
    "\n",
    "**IMPORTANT**:\n",
    "- For `gender` disaggregator to work, you need to download spacy's `en_core_web_lg` model. \n",
    "  - That's the model Hugging Face is using behind the scene! \n",
    "  - Hence, you can see the `.whl` file install in the `%pip install` command above. \n",
    "  - The model is directly download from [spaCy's GitHub](https://github.com/explosion/spacy-models/releases?q=en_core_web_lg)."
   ]
  },
  {
   "cell_type": "code",
   "execution_count": 0,
   "metadata": {
    "application/vnd.databricks.v1+cell": {
     "cellMetadata": {},
     "inputWidgets": {},
     "nuid": "3bd19150-a4a2-449d-8afe-1ff11ef8f7fc",
     "showTitle": false,
     "title": ""
    }
   },
   "outputs": [],
   "source": [
    "from disaggregators import Disaggregator\n",
    "\n",
    "disaggregator = Disaggregator(\"pronoun\", column=\"target_text\")\n",
    "# disaggregator = Disaggregator(\"gender\", column=\"target_text\")\n",
    "# disaggregator = Disaggregator(\"continent\", column=\"target_text\")\n",
    "# disaggregator = Disaggregator(\"religion\", column=\"target_text\")\n",
    "# disaggregator = Disaggregator(\"age\", column=\"target_text\")"
   ]
  },
  {
   "cell_type": "markdown",
   "metadata": {
    "application/vnd.databricks.v1+cell": {
     "cellMetadata": {},
     "inputWidgets": {},
     "nuid": "046dd338-f72a-4436-97bc-3a9a848db45f",
     "showTitle": false,
     "title": ""
    }
   },
   "source": [
    "We will use [Wikipedia biographies dataset](https://huggingface.co/datasets/wiki_bio), `wiki_bio`, readily available in the Hugging Face Datasets. From the dataset summary, the data contains the first paragraph of the biography and the tabular infobox. \n",
    "\n",
    "As you see, disaggreator works with Hugging Face datasets or any datasets where `.map` can be invoked. The `disaggregators` library attempts to group the wiki bio into `she_her`, `he_him`, and `they_them`.\n",
    "\n",
    "Note: the cell below might take a couple minutes for the data to finish loading and for the disaggregator to categorize the data."
   ]
  },
  {
   "cell_type": "code",
   "execution_count": 0,
   "metadata": {
    "application/vnd.databricks.v1+cell": {
     "cellMetadata": {},
     "inputWidgets": {},
     "nuid": "9b0f0a31-44d2-4f21-97b6-779f29d9c7f1",
     "showTitle": false,
     "title": ""
    }
   },
   "outputs": [],
   "source": [
    "from datasets import load_dataset\n",
    "\n",
    "wiki_data = load_dataset(\n",
    "    \"wiki_bio\",\n",
    "    split=\"test\",\n",
    "    cache_dir=DA.paths.datasets)  # Note: We specify cache_dir to use pre-cached data.\n",
    "ds = wiki_data.map(disaggregator)\n",
    "pdf = ds.to_pandas()"
   ]
  },
  {
   "cell_type": "code",
   "execution_count": 0,
   "metadata": {
    "application/vnd.databricks.v1+cell": {
     "cellMetadata": {},
     "inputWidgets": {},
     "nuid": "5f324519-4a05-47c7-a25b-b037486b26d7",
     "showTitle": false,
     "title": ""
    }
   },
   "outputs": [],
   "source": [
    "# Let's take a look at the dataframe\n",
    "pdf"
   ]
  },
  {
   "cell_type": "markdown",
   "metadata": {
    "application/vnd.databricks.v1+cell": {
     "cellMetadata": {},
     "inputWidgets": {},
     "nuid": "c6840cef-3539-49b9-a69d-a54f65c4b532",
     "showTitle": false,
     "title": ""
    }
   },
   "source": [
    "However, it doesn't do a very a good job at determining `they_them` as it seems to classify mentions of physical objects as `they_them` as well. For example, the 19th row has both pronoun categories, `they_them` and `he_him`, to be true. But looking at the data itself, we saw that the bio only used the the pronoun `he_him`: \n",
    "\n",
    " >william ` bill ' rigby -lrb- 9 june 1921 - 1 june 2010 -rrb- was a former english footballer who played as a goalkeeper .\\nhe was born in chester .\\na product of the youth system at his hometown club of chester , rigby made his only peacetime first-team appearance for the club in their first post-war match in the football league in a 4 -- 4 draw at york city on 31 august 1946 .\\nafter this he was not selected again , with goalkeeping duties being passed on to george scales and jim maclaren .\\nearlier he had made appearances for the first-team during the war years , mainly during 1940 -- 41 and 1941 -- 42 while understudy to bill shortt\n",
    "\n",
    "For this reason, the following analysis will ignore the column `pronoun.they_them`."
   ]
  },
  {
   "cell_type": "code",
   "execution_count": 0,
   "metadata": {
    "application/vnd.databricks.v1+cell": {
     "cellMetadata": {},
     "inputWidgets": {},
     "nuid": "66afa8f6-96bf-4b6c-8d49-19b9acf8eac5",
     "showTitle": false,
     "title": ""
    }
   },
   "outputs": [],
   "source": [
    "import json\n",
    "\n",
    "print(pdf.iloc[[19], :].to_json(indent=4))"
   ]
  },
  {
   "cell_type": "markdown",
   "metadata": {
    "application/vnd.databricks.v1+cell": {
     "cellMetadata": {},
     "inputWidgets": {},
     "nuid": "f46eeb94-5da7-4ac9-a43a-ad47d63f9930",
     "showTitle": false,
     "title": ""
    }
   },
   "source": [
    "Let's do a simple aggregation to check the ratio of Wikipedian bios in terms of `he_him`"
   ]
  },
  {
   "cell_type": "code",
   "execution_count": 0,
   "metadata": {
    "application/vnd.databricks.v1+cell": {
     "cellMetadata": {},
     "inputWidgets": {},
     "nuid": "3e112273-419f-40ee-bb73-112892e1d75c",
     "showTitle": false,
     "title": ""
    }
   },
   "outputs": [],
   "source": [
    "import numpy as np\n",
    "\n",
    "she_array = np.where(pdf[\"pronoun.she_her\"] == True)\n",
    "print(f\"she_her: {len(she_array[0])} rows\")\n",
    "he_array = np.where(pdf[\"pronoun.he_him\"] == True)\n",
    "print(f\"he_him: {len(he_array[0])} rows\")"
   ]
  },
  {
   "cell_type": "markdown",
   "metadata": {
    "application/vnd.databricks.v1+cell": {
     "cellMetadata": {},
     "inputWidgets": {},
     "nuid": "a2d9f2b5-c41d-4800-b6a8-adf0d5f2c450",
     "showTitle": false,
     "title": ""
    }
   },
   "source": [
    "The `he_him` pronoun represents `44004/ (9545+44004)`, which is approximately 82% of the data! It is not hard to imagine that models trained on predominantly male data would exhibit bias towards males.\n",
    "\n",
    "Let's confirm that existing pre-trained models, like BERT, does exhibit bias. BERT is trained on both Wikipedia and [books that are adapted into movies](https://huggingface.co/datasets/bookcorpus)."
   ]
  },
  {
   "cell_type": "code",
   "execution_count": 0,
   "metadata": {
    "application/vnd.databricks.v1+cell": {
     "cellMetadata": {},
     "inputWidgets": {},
     "nuid": "f615d336-bb37-4a9b-9639-eb5097f230c6",
     "showTitle": false,
     "title": ""
    }
   },
   "outputs": [],
   "source": [
    "from transformers import pipeline\n",
    "\n",
    "unmasker = pipeline(\n",
    "    \"fill-mask\",\n",
    "    model=\"bert-base-uncased\",\n",
    "    model_kwargs={\"cache_dir\":DA.paths.datasets})  # Note: We specify cache_dir to use pre-cached models."
   ]
  },
  {
   "cell_type": "markdown",
   "metadata": {
    "application/vnd.databricks.v1+cell": {
     "cellMetadata": {},
     "inputWidgets": {},
     "nuid": "403a806b-f9f0-4708-8645-1e49d0599a8c",
     "showTitle": false,
     "title": ""
    }
   },
   "source": [
    "To probe what BERT outputs, we will intentionally insert [MASK] token and ask BERT to generate words to replace that [MASK] token."
   ]
  },
  {
   "cell_type": "code",
   "execution_count": 0,
   "metadata": {
    "application/vnd.databricks.v1+cell": {
     "cellMetadata": {},
     "inputWidgets": {},
     "nuid": "954f1b36-f2af-49f4-963c-974d77852074",
     "showTitle": false,
     "title": ""
    }
   },
   "outputs": [],
   "source": [
    "result = unmasker(\"This woman works as a [MASK].\")\n",
    "print([r[\"token_str\"] for r in result])\n",
    "\n",
    "result = unmasker(\"This man works as a [MASK].\")\n",
    "print([r[\"token_str\"] for r in result])"
   ]
  },
  {
   "cell_type": "markdown",
   "metadata": {
    "application/vnd.databricks.v1+cell": {
     "cellMetadata": {},
     "inputWidgets": {},
     "nuid": "49713009-d3ad-4eaa-9241-526f03eeda25",
     "showTitle": false,
     "title": ""
    }
   },
   "source": [
    "## Inspect toxicity\n",
    "\n",
    "Now that we have inspected data and model bias above, let's evaluate the toxicity of language model outputs. To do this, we leverage another [Hugging Face library called `evaluate`](https://huggingface.co/docs/evaluate/index).\n",
    "\n",
    "The `evaluate` library can measure language models from different angles:\n",
    "<br>\n",
    "- Toxicity: how problematic the completion is, such as hate speech\n",
    "  - It uses [Facebook's `roberta-hate-speech-dynabench-r4-target` model](https://huggingface.co/facebook/roberta-hate-speech-dynabench-r4-target) behind the scene to compute toxicity.\n",
    "- [HONEST](https://huggingface.co/spaces/evaluate-measurement/honest): how hurtful the completion is \n",
    "  - The model was [published in 2021](https://aclanthology.org/2021.naacl-main.191.pdf)\n",
    "  - It works very similarly as our `unmasker` example in the cell directly above. It also replaces certain words with [MASK] tokens and evaluates the hurtfulness based on what the language models output.\n",
    "- Regard: whether the completion regards a certain group higher than the others \n",
    "  - You will play with this in the lab! So we will save this for later."
   ]
  },
  {
   "cell_type": "code",
   "execution_count": 0,
   "metadata": {
    "application/vnd.databricks.v1+cell": {
     "cellMetadata": {},
     "inputWidgets": {},
     "nuid": "2fb803d1-f1a3-4948-855e-54274d0e8c1f",
     "showTitle": false,
     "title": ""
    }
   },
   "outputs": [],
   "source": [
    "import evaluate\n",
    "\n",
    "toxicity = evaluate.load(\"toxicity\", module_type=\"measurement\")"
   ]
  },
  {
   "cell_type": "markdown",
   "metadata": {
    "application/vnd.databricks.v1+cell": {
     "cellMetadata": {},
     "inputWidgets": {},
     "nuid": "f0f5ce05-278d-4d4e-be18-96c5b258634a",
     "showTitle": false,
     "title": ""
    }
   },
   "source": [
    "Any toxicity value over 0.5 is arbitrarily defined as \"toxic\". Here, we refrain from typing literal curse words to increase the toxicity values. However, you can see that the third phrase is noticeably more toxic than the other two!"
   ]
  },
  {
   "cell_type": "code",
   "execution_count": 0,
   "metadata": {
    "application/vnd.databricks.v1+cell": {
     "cellMetadata": {},
     "inputWidgets": {},
     "nuid": "8e70044f-9ee4-4535-851b-8d568bca738b",
     "showTitle": false,
     "title": ""
    }
   },
   "outputs": [],
   "source": [
    "candidates = [\"their kid loves reading books\", \"she curses and makes fun of people\", \"he is a wimp and pathetic loser\"]\n",
    "toxicity.compute(predictions=candidates)"
   ]
  },
  {
   "cell_type": "markdown",
   "metadata": {
    "application/vnd.databricks.v1+cell": {
     "cellMetadata": {},
     "inputWidgets": {},
     "nuid": "a407aeb9-e4fd-4625-8825-7b076bb2ba5c",
     "showTitle": false,
     "title": ""
    }
   },
   "source": [
    "## Model Interpretability with SHAP \n",
    "\n",
    "Another interesting topic within language model evaluation is whether we can interpret LM outputs. **SH**apley **A**dditive ex**P**lanations (**SHAP**) is a popular approach to explain the output of a machine learning model. It is agnostic to the type of machine learning model you pass in; this means that we can try using SHAP to explain our language model outputs! \n",
    "\n",
    "See the <a href=\"http://papers.nips.cc/paper/7062-a-unified-approach-to-interpreting-model-predictions\" target=\"_blank\">SHAP NeurIPS</a> paper for details, and Christoph Molnar's book chapter on <a href=\"https://christophm.github.io/interpretable-ml-book/shapley.html\" target=\"_blank\">Shapley Values</a>. \n",
    "\n",
    "Take the diagram below as an example. SHAP's goal is to explain the $10,000 difference in the apartment price. We see that if cats are not allowed in the same apartment building, the price of the apartment is lower than if it were to allow cats. \n",
    "\n",
    "<img src=\"https://files.training.databricks.com/images/shap_permutation.png\" width=500>\n",
    "\n",
    "Image is sourced from Molnar's book. Read SHAP [documentation here](https://shap.readthedocs.io/en/latest/text_examples.html)."
   ]
  },
  {
   "cell_type": "markdown",
   "metadata": {
    "application/vnd.databricks.v1+cell": {
     "cellMetadata": {},
     "inputWidgets": {},
     "nuid": "a4615683-cd35-4ea0-a87d-7cb3c3eeede0",
     "showTitle": false,
     "title": ""
    }
   },
   "source": [
    "In this section, we are going to first load a text generation model from Hugging Face, provide an input sentence, and ask the model to complete the rest of the sentence. Then, we will ask SHAP to generate explanation behind the sentence completion."
   ]
  },
  {
   "cell_type": "code",
   "execution_count": 0,
   "metadata": {
    "application/vnd.databricks.v1+cell": {
     "cellMetadata": {},
     "inputWidgets": {},
     "nuid": "ad55c986-8491-4867-9f91-4f19885f13ed",
     "showTitle": false,
     "title": ""
    }
   },
   "outputs": [],
   "source": [
    "from transformers import AutoTokenizer, AutoModelForCausalLM\n",
    "import shap\n",
    "\n",
    "tokenizer = AutoTokenizer.from_pretrained(\n",
    "    \"gpt2\",\n",
    "    use_fast=True,\n",
    "    cache_dir=DA.paths.datasets)\n",
    "model = AutoModelForCausalLM.from_pretrained(\n",
    "    \"gpt2\",\n",
    "    cache_dir=DA.paths.datasets)\n",
    "\n",
    "# Set model decoder to true\n",
    "# GPT is a decoder-only model\n",
    "model.config.is_decoder = True\n",
    "# We set configurations for the output text generation\n",
    "model.config.task_specific_params[\"text-generation\"] = {\n",
    "    \"do_sample\": True,\n",
    "    \"max_length\": 50,\n",
    "    \"temperature\": 0, # to turn off randomness\n",
    "    \"top_k\": 50,\n",
    "    \"no_repeat_ngram_size\": 2\n",
    "}"
   ]
  },
  {
   "cell_type": "markdown",
   "metadata": {
    "application/vnd.databricks.v1+cell": {
     "cellMetadata": {},
     "inputWidgets": {},
     "nuid": "c80a48e4-0e4c-46d2-9d06-551b940cf8c6",
     "showTitle": false,
     "title": ""
    }
   },
   "source": [
    "Feel free to modify the input sentence below to play around later!"
   ]
  },
  {
   "cell_type": "code",
   "execution_count": 0,
   "metadata": {
    "application/vnd.databricks.v1+cell": {
     "cellMetadata": {},
     "inputWidgets": {},
     "nuid": "1b35d03a-5ae4-40c2-8411-3ecfcfc20d79",
     "showTitle": false,
     "title": ""
    }
   },
   "outputs": [],
   "source": [
    "input_sentence = [\"Sunny days are the best days to go to the beach. So\"]"
   ]
  },
  {
   "cell_type": "markdown",
   "metadata": {
    "application/vnd.databricks.v1+cell": {
     "cellMetadata": {},
     "inputWidgets": {},
     "nuid": "6f5088d8-77e7-4c65-9fbc-d47ae50cef85",
     "showTitle": false,
     "title": ""
    }
   },
   "source": [
    "The `shap.Explainer` is how we can interface with SHAP. We need to pass in our `tokenizer` because that's the tokenizer we use to vectorize the text. When SHAP masks certain tokens to generate explanation, the tokenizer helps us to retain the same number of tokens by replacing the word with the [MASK] token."
   ]
  },
  {
   "cell_type": "code",
   "execution_count": 0,
   "metadata": {
    "application/vnd.databricks.v1+cell": {
     "cellMetadata": {},
     "inputWidgets": {},
     "nuid": "aca3de85-6648-4ff9-8502-b6efba706b03",
     "showTitle": false,
     "title": ""
    }
   },
   "outputs": [],
   "source": [
    "explainer = shap.Explainer(model, tokenizer)\n",
    "shap_values = explainer(input_sentence)"
   ]
  },
  {
   "cell_type": "markdown",
   "metadata": {
    "application/vnd.databricks.v1+cell": {
     "cellMetadata": {},
     "inputWidgets": {},
     "nuid": "fe3734ad-5626-4a0a-b831-ceb954e47470",
     "showTitle": false,
     "title": ""
    }
   },
   "source": [
    "Now we can check the contribution of each input token towards the output token. \"Red\" means positive contribution whereas \"blue\" means negative indication. The color intensity indicates the strength of the contribution. \n",
    "\n",
    "From the documentation:\n",
    "\n",
    "> The base value is what the model outputs when the entire input text is masked, while f_outputclass(inputs)\n",
    " is the output of the model for the full original input. The SHAP values explain in an additive way how the impact of unmasking each word changes the model output from the base value (where the entire input is masked) to the final prediction value"
   ]
  },
  {
   "cell_type": "code",
   "execution_count": 0,
   "metadata": {
    "application/vnd.databricks.v1+cell": {
     "cellMetadata": {},
     "inputWidgets": {},
     "nuid": "85ed07f6-e403-4086-96cf-799a8915c71e",
     "showTitle": false,
     "title": ""
    }
   },
   "outputs": [],
   "source": [
    "shap.plots.text(shap_values)"
   ]
  },
  {
   "cell_type": "markdown",
   "metadata": {
    "application/vnd.databricks.v1+cell": {
     "cellMetadata": {},
     "inputWidgets": {},
     "nuid": "139bc366-9c2d-48c2-b58f-536edbf517da",
     "showTitle": false,
     "title": ""
    }
   },
   "source": [
    "The plot below shows which input tokens contributes most towards the output token `looking`."
   ]
  },
  {
   "cell_type": "code",
   "execution_count": 0,
   "metadata": {
    "application/vnd.databricks.v1+cell": {
     "cellMetadata": {},
     "inputWidgets": {},
     "nuid": "5ca529a4-a9d8-415d-a708-78e22670e147",
     "showTitle": false,
     "title": ""
    }
   },
   "outputs": [],
   "source": [
    "shap.plots.bar(shap_values[0, :, \"looking\"])"
   ]
  },
  {
   "cell_type": "code",
   "execution_count": 0,
   "metadata": {
    "application/vnd.databricks.v1+cell": {
     "cellMetadata": {},
     "inputWidgets": {},
     "nuid": "a792fd72-239e-4b55-8872-25116f629cc5",
     "showTitle": false,
     "title": ""
    }
   },
   "outputs": [],
   "source": [
    "input_sentence2 = [\"I know many people who prefer beaches to the mountains\"]\n",
    "shap_values2 = explainer(input_sentence2)\n",
    "shap.plots.text(shap_values2)"
   ]
  },
  {
   "cell_type": "markdown",
   "metadata": {
    "application/vnd.databricks.v1+cell": {
     "cellMetadata": {},
     "inputWidgets": {},
     "nuid": "6f0b93a7-a032-4189-94c2-187934eed774",
     "showTitle": false,
     "title": ""
    }
   },
   "source": [
    "Let's check which token contributes the most to the output word \"not\"."
   ]
  },
  {
   "cell_type": "code",
   "execution_count": 0,
   "metadata": {
    "application/vnd.databricks.v1+cell": {
     "cellMetadata": {},
     "inputWidgets": {},
     "nuid": "c00d9307-08c0-44fd-b2c4-51979e3f4275",
     "showTitle": false,
     "title": ""
    }
   },
   "outputs": [],
   "source": [
    "shap.plots.bar(shap_values2[0, :, \"not\"])"
   ]
  },
  {
   "cell_type": "markdown",
   "metadata": {
    "application/vnd.databricks.v1+cell": {
     "cellMetadata": {},
     "inputWidgets": {},
     "nuid": "c531f0ac-aca9-4e3e-8c07-0ab21cefed27",
     "showTitle": false,
     "title": ""
    }
   },
   "source": [
    "Common model interpretability methods for text classification are not as informative for language model predictions because the most recent input token usually is the most influential token to the subsequent predicted token. This is called recency bias and it's a difficult problem to tackle. While SHAP gave us an idea what input token may have contributed to the output token, it's not really all that useful. \n",
    "\n",
    "Let's take a look at the final example."
   ]
  },
  {
   "cell_type": "code",
   "execution_count": 0,
   "metadata": {
    "application/vnd.databricks.v1+cell": {
     "cellMetadata": {},
     "inputWidgets": {},
     "nuid": "382691b1-7348-4f46-898c-34d916d84f2c",
     "showTitle": false,
     "title": ""
    }
   },
   "outputs": [],
   "source": [
    "input_sentence3 = [\"Can you stop the dog from\"]\n",
    "shap_values3 = explainer(input_sentence3)\n",
    "shap.plots.text(shap_values3)"
   ]
  },
  {
   "cell_type": "markdown",
   "metadata": {
    "application/vnd.databricks.v1+cell": {
     "cellMetadata": {},
     "inputWidgets": {},
     "nuid": "0903897c-d136-4775-bde7-8b9ce8d6b3c0",
     "showTitle": false,
     "title": ""
    }
   },
   "source": [
    "In the example above, we see that the predicted token is `barking`. But we don't know why the model doesn't output tokens like `crying`, `eating`, `biting`, etc. It would be a lot more interesting if we can know *why* the model outputs `barking` **instead of** `crying` and other viable word candidates. This `instead of` explanation is called `contrastive explanation` ([Yin and Neubig 2022](https://aclanthology.org/2022.emnlp-main.14.pdf)). \n",
    "\n",
    "\n",
    "Let the actual output token be `target_token` and the viable output token be `foil_token`. Intuitively, there are three methods to generate such contrastive explanations: \n",
    "1. Calculate how much an input token influences the probability of `target_token`, while decreasing the probability of `foil_token`\n",
    "2. Calculate how much erasing an input token increases the probability of `foil_token` and reduces that of `target_token` \n",
    "3. Calculate the dot product between the input token embedding and the output token. \n",
    "\n",
    "<img src=\"https://files.training.databricks.com/images/constrastive_exp.png\" width=300>\n",
    "\n",
    "Courtesy of the author's, Kayo Yin's, [slides](https://kayoyin.github.io/assets/slides/melb22.pdf). Below, we are going to use Yin's [Python module](https://github.com/kayoyin/interpret-lm/tree/main) to generate contrastive explanation for us! The code is currently in a research state, rather than readily packaged on PyPI or production-ready, but it is still interesting to see current (and potential future) state of research directions.\n",
    "\n",
    "We will walk through the results directly in the markdown. If you are interested in running this code, you can download `lm_saliency.py` from the [repo](https://github.com/kayoyin/interpret-lm/blob/main/lm_saliency.py) and import it into your `LLM 05 - LLMs and Society` folder. \n",
    "\n",
    "```\n",
    "from transformers import GPT2Tokenizer, GPT2LMHeadModel\n",
    "\n",
    "gpt2_tokenizer = GPT2Tokenizer.from_pretrained(\n",
    "    \"gpt2\",\n",
    "    cache_dir=DA.paths.datasets)\n",
    "gpt2_model = GPT2LMHeadModel.from_pretrained(\n",
    "    \"gpt2\",\n",
    "    cache_dir=DA.paths.datasets)\n",
    "\n",
    "input_tokens = gpt2_tokenizer(input_sentence3[0])[\"input_ids\"]\n",
    "attention_ids = gpt2_tokenizer(input_sentence3[0])[\"attention_mask\"]\n",
    "```\n",
    "\n",
    "Recall that `input_sentence3[0]` is `Can you stop the dog from`."
   ]
  },
  {
   "cell_type": "markdown",
   "metadata": {
    "application/vnd.databricks.v1+cell": {
     "cellMetadata": {},
     "inputWidgets": {},
     "nuid": "12d1b3c4-54c3-4e7b-925c-58ed2cffcd82",
     "showTitle": false,
     "title": ""
    }
   },
   "source": [
    "We will use the erasure method to generate explanation. \n",
    "\n",
    "```\n",
    "import lm_saliency\n",
    "from lm_saliency import *\n",
    "\n",
    "target = \"barking\" # target refers to the word we would like to generate explanation on\n",
    "foil = \"crying\" # foil refers to any other possible word \n",
    "explanation = \"erasure\"\n",
    "CORRECT_ID = gpt2_tokenizer(\" \" + target)[\"input_ids\"][0]\n",
    "FOIL_ID = gpt2_tokenizer(\" \" + foil)[\"input_ids\"][0]\n",
    "\n",
    "# Erasure\n",
    "base_explanation = erasure_scores(gpt2_model, input_tokens, attention_ids, normalize=True)\n",
    "contra_explanation = erasure_scores(gpt2_model, input_tokens, attention_ids, correct=CORRECT_ID, foil=FOIL_ID, normalize=True)\n",
    "\n",
    "visualize(np.array(base_explanation), gpt2_tokenizer, [input_tokens], print_text=True, title=f\"Why did the model predict {target}?\")\n",
    "visualize(np.array(contra_explanation), gpt2_tokenizer, [input_tokens], print_text=True, title=f\"Why did the model predict {target} instead of {foil}?\")\n",
    "```\n",
    "\n",
    "<img src=\"https://files.training.databricks.com/images/llm/lm_saliency.png\" width=1000>"
   ]
  },
  {
   "cell_type": "markdown",
   "metadata": {
    "application/vnd.databricks.v1+cell": {
     "cellMetadata": {},
     "inputWidgets": {},
     "nuid": "1e278a17-9b62-4f02-801a-b910887006ba",
     "showTitle": false,
     "title": ""
    }
   },
   "source": [
    "The score measures how much each token influences the model to attribute a higher probability to the target token. In this example above, `stop` makes the model more likely to predict `barking` whereas `the` doesn't influence whether the model predicts `barking` or `crying`.  \n",
    "\n",
    "\n",
    "How we can use contrastive explanation to improve LLMs is still an ongoing research! It's not surprising that the research so far has shown that contrastive explanation can help us characterize how LLMs decide which output token to predict. It's an exciting space to watch for development!"
   ]
  },
  {
   "cell_type": "markdown",
   "metadata": {
    "application/vnd.databricks.v1+cell": {
     "cellMetadata": {},
     "inputWidgets": {},
     "nuid": "bf0329d6-3c3b-46c3-905b-4faa48909fc4",
     "showTitle": false,
     "title": ""
    }
   },
   "source": [
    "-sandbox\n",
    "&copy; 2023 Databricks, Inc. All rights reserved.<br/>\n",
    "Apache, Apache Spark, Spark and the Spark logo are trademarks of the <a href=\"https://www.apache.org/\">Apache Software Foundation</a>.<br/>\n",
    "<br/>\n",
    "<a href=\"https://databricks.com/privacy-policy\">Privacy Policy</a> | <a href=\"https://databricks.com/terms-of-use\">Terms of Use</a> | <a href=\"https://help.databricks.com/\">Support</a>"
   ]
  }
 ],
 "metadata": {
  "application/vnd.databricks.v1+notebook": {
   "dashboards": [],
   "language": "python",
   "notebookMetadata": {
    "pythonIndentUnit": 2
   },
   "notebookName": "LLM 05 - LLMs and Society",
   "widgets": {}
  }
 },
 "nbformat": 4,
 "nbformat_minor": 0
}
