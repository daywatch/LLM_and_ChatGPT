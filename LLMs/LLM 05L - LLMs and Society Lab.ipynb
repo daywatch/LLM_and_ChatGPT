{
 "cells": [
  {
   "cell_type": "markdown",
   "metadata": {
    "application/vnd.databricks.v1+cell": {
     "cellMetadata": {},
     "inputWidgets": {},
     "nuid": "83f858cf-b547-4a6f-8ea7-2939ab447dae",
     "showTitle": false,
     "title": ""
    }
   },
   "source": [
    "-sandbox\n",
    "\n",
    "<div style=\"text-align: center; line-height: 0; padding-top: 9px;\">\n",
    "  <img src=\"https://databricks.com/wp-content/uploads/2018/03/db-academy-rgb-1200px.png\" alt=\"Databricks Learning\" style=\"width: 600px\">\n",
    "</div>"
   ]
  },
  {
   "cell_type": "markdown",
   "metadata": {
    "application/vnd.databricks.v1+cell": {
     "cellMetadata": {},
     "inputWidgets": {},
     "nuid": "26a077ed-a959-4056-8115-294d26ff2708",
     "showTitle": false,
     "title": ""
    }
   },
   "source": [
    "# LLMs and Society Lab\n",
    "\n",
    "### ![Dolly](https://files.training.databricks.com/images/llm/dolly_small.png) Learning Objectives\n",
    "1. Learn how to evaluate polarity towards certain demographic groups using `regard`\n",
    "    - We will first evaluate whether dancers are regarded differently from scientists\n",
    "    - You will then compute `regard` with other groups of your choice\n",
    "2. Test your language model by changing text using `sparknlp`"
   ]
  },
  {
   "cell_type": "code",
   "execution_count": 0,
   "metadata": {
    "application/vnd.databricks.v1+cell": {
     "cellMetadata": {},
     "inputWidgets": {},
     "nuid": "9f69e394-b5d9-4ced-ab26-8e5518c9c7bc",
     "showTitle": false,
     "title": ""
    }
   },
   "outputs": [],
   "source": [
    "%pip install nlptest==1.1.0"
   ]
  },
  {
   "cell_type": "markdown",
   "metadata": {
    "application/vnd.databricks.v1+cell": {
     "cellMetadata": {},
     "inputWidgets": {},
     "nuid": "b64040d0-f6a9-4a0c-8824-ed02ecbe5fc6",
     "showTitle": false,
     "title": ""
    }
   },
   "source": [
    "## Classroom Setup"
   ]
  },
  {
   "cell_type": "code",
   "execution_count": 0,
   "metadata": {
    "application/vnd.databricks.v1+cell": {
     "cellMetadata": {},
     "inputWidgets": {},
     "nuid": "cf6eef65-5f95-4fbf-a9d1-ecd286d04e53",
     "showTitle": false,
     "title": ""
    }
   },
   "outputs": [],
   "source": [
    "%run ../Includes/Classroom-Setup"
   ]
  },
  {
   "cell_type": "markdown",
   "metadata": {
    "application/vnd.databricks.v1+cell": {
     "cellMetadata": {},
     "inputWidgets": {},
     "nuid": "4b87ae22-c225-42a2-bb58-bbd01d9fc532",
     "showTitle": false,
     "title": ""
    }
   },
   "source": [
    "## Evaluate Regard \n",
    "\n",
    "We will use the [BOLD dataset](https://huggingface.co/datasets/AlexaAI/bold), created by Alexa AI, that allows us to evaluate model fairness in English text generation. Specifically, we will use categories within this dataset to prompt the language model for text completion. Some example categories include:\n",
    "- gender \n",
    "- professions\n",
    "- religions\n",
    "\n",
    "Continuing from the demo, we will use the same `evaluate` library from Hugging Face, but leverage a separate module called `regard`. We evaluate model fairness from the angle of polarity or perception to see if one group is assigned a higher regard score than the other."
   ]
  },
  {
   "cell_type": "code",
   "execution_count": 0,
   "metadata": {
    "application/vnd.databricks.v1+cell": {
     "cellMetadata": {},
     "inputWidgets": {},
     "nuid": "4a9e49d8-a72f-4bcc-b1d0-6d309fa68b06",
     "showTitle": false,
     "title": ""
    }
   },
   "outputs": [],
   "source": [
    "from datasets import load_dataset\n",
    "\n",
    "bold = load_dataset(\n",
    "    \"AlexaAI/bold\",\n",
    "    split=\"train\",\n",
    "    cache_dir=DA.paths.datasets)  # Note: We specify cache_dir to use pre-cached data."
   ]
  },
  {
   "cell_type": "markdown",
   "metadata": {
    "application/vnd.databricks.v1+cell": {
     "cellMetadata": {},
     "inputWidgets": {},
     "nuid": "8f2eb99a-42fb-4242-b736-d01b2a54d14d",
     "showTitle": false,
     "title": ""
    }
   },
   "source": [
    "In this exercise, we will examine whether people in the `dance_occupations` are regarded any differently than those in `scientific_occupations`."
   ]
  },
  {
   "cell_type": "code",
   "execution_count": 0,
   "metadata": {
    "application/vnd.databricks.v1+cell": {
     "cellMetadata": {},
     "inputWidgets": {},
     "nuid": "19c441b0-217a-4a44-a8c3-f63e8f31635b",
     "showTitle": false,
     "title": ""
    }
   },
   "outputs": [],
   "source": [
    "from random import sample\n",
    "\n",
    "def generate_samples(category_name: str, n: int) -> list:\n",
    "    \"\"\"\n",
    "        Given a category, returns `n` samples\n",
    "    \"\"\"\n",
    "    bold_samples = (sample([p for p in bold if p[\"category\"] == category_name], n))\n",
    "    return bold_samples\n",
    "\n",
    "science_bold = generate_samples(\"scientific_occupations\", 10)\n",
    "dance_bold = generate_samples(\"dance_occupations\", 10)\n",
    "\n",
    "print(\"Science example: \", science_bold[0])\n",
    "print(\"-\"*60)\n",
    "print(\"Dance example: \", dance_bold[0])"
   ]
  },
  {
   "cell_type": "markdown",
   "metadata": {
    "application/vnd.databricks.v1+cell": {
     "cellMetadata": {},
     "inputWidgets": {},
     "nuid": "02125a4b-208c-4520-8211-e20808ff9780",
     "showTitle": false,
     "title": ""
    }
   },
   "source": [
    "### Question 1\n",
    "Now, it's your turn to generate some samples. Run the following cell to get a complete list of categories covered by BOLD.\n",
    "\n",
    "If you need inspiration, try `American_actors` and `American_actresses`."
   ]
  },
  {
   "cell_type": "code",
   "execution_count": 0,
   "metadata": {
    "application/vnd.databricks.v1+cell": {
     "cellMetadata": {},
     "inputWidgets": {},
     "nuid": "377cd5fd-37a9-4b2d-8973-9dea3a51c736",
     "showTitle": false,
     "title": ""
    }
   },
   "outputs": [],
   "source": [
    "import numpy as np\n",
    "\n",
    "np.unique(bold[\"category\"])"
   ]
  },
  {
   "cell_type": "code",
   "execution_count": 0,
   "metadata": {
    "application/vnd.databricks.v1+cell": {
     "cellMetadata": {},
     "inputWidgets": {},
     "nuid": "40ae6b02-bab1-4a7d-b340-cdc743d6dc20",
     "showTitle": false,
     "title": ""
    }
   },
   "outputs": [],
   "source": [
    "# TODO \n",
    " \n",
    "group1_bold = generate_samples(\"<FILL_IN>\", 50)\n",
    "group2_bold = generate_samples(\"<FILL_IN>\", 50)"
   ]
  },
  {
   "cell_type": "code",
   "execution_count": 0,
   "metadata": {
    "application/vnd.databricks.v1+cell": {
     "cellMetadata": {},
     "inputWidgets": {},
     "nuid": "98012b6e-6c67-4a71-b42c-cab6548d670b",
     "showTitle": false,
     "title": ""
    }
   },
   "outputs": [],
   "source": [
    "# Test your answer. DO NOT MODIFY THIS CELL.\n",
    "\n",
    "dbTestQuestion5_1(group1_bold, group2_bold)"
   ]
  },
  {
   "cell_type": "markdown",
   "metadata": {
    "application/vnd.databricks.v1+cell": {
     "cellMetadata": {},
     "inputWidgets": {},
     "nuid": "d909cdae-eeb3-4810-a5e7-96297c69406a",
     "showTitle": false,
     "title": ""
    }
   },
   "source": [
    "Now, let's get some prompts from each of the categories"
   ]
  },
  {
   "cell_type": "code",
   "execution_count": 0,
   "metadata": {
    "application/vnd.databricks.v1+cell": {
     "cellMetadata": {},
     "inputWidgets": {},
     "nuid": "83541525-2073-4517-9356-19115214758e",
     "showTitle": false,
     "title": ""
    }
   },
   "outputs": [],
   "source": [
    "science_prompts = [p[\"prompts\"][0] for p in science_bold]\n",
    "dance_prompts = [p[\"prompts\"][0] for p in dance_bold]\n",
    "print(\"Science prompt example: \", science_prompts[0])\n",
    "print(\"Dance prompt example: \", dance_prompts[0])"
   ]
  },
  {
   "cell_type": "markdown",
   "metadata": {
    "application/vnd.databricks.v1+cell": {
     "cellMetadata": {},
     "inputWidgets": {},
     "nuid": "b6eea6ea-13ba-4eb0-acbb-f15e7509eea3",
     "showTitle": false,
     "title": ""
    }
   },
   "source": [
    "### Question 2\n",
    "It's your turn to get prompts from the samples."
   ]
  },
  {
   "cell_type": "code",
   "execution_count": 0,
   "metadata": {
    "application/vnd.databricks.v1+cell": {
     "cellMetadata": {},
     "inputWidgets": {},
     "nuid": "1f1e3cc2-8bfd-4528-80ad-55ee73eafb4e",
     "showTitle": false,
     "title": ""
    }
   },
   "outputs": [],
   "source": [
    "# TODO \n",
    "\n",
    "group1_prompts = [p[\"prompts\"][0] for p in <FILL_IN>]\n",
    "group2_prompts = [p[\"prompts\"][0] for p in <FILL_IN>]"
   ]
  },
  {
   "cell_type": "code",
   "execution_count": 0,
   "metadata": {
    "application/vnd.databricks.v1+cell": {
     "cellMetadata": {},
     "inputWidgets": {},
     "nuid": "2bd7aead-fce6-4131-9cef-ed090f2cfb57",
     "showTitle": false,
     "title": ""
    }
   },
   "outputs": [],
   "source": [
    "# Test your answer. DO NOT MODIFY THIS CELL.\n",
    "\n",
    "dbTestQuestion5_2(group1_prompts, group2_prompts)"
   ]
  },
  {
   "cell_type": "markdown",
   "metadata": {
    "application/vnd.databricks.v1+cell": {
     "cellMetadata": {},
     "inputWidgets": {},
     "nuid": "452664fa-df95-4275-a7ce-e0dc6c2b7c9c",
     "showTitle": false,
     "title": ""
    }
   },
   "source": [
    "Let's put GPT-2 to test. Does our model complete the sentences with equal regard for both the scientist and the dancer?"
   ]
  },
  {
   "cell_type": "code",
   "execution_count": 0,
   "metadata": {
    "application/vnd.databricks.v1+cell": {
     "cellMetadata": {},
     "inputWidgets": {},
     "nuid": "a9806541-0b8a-4101-b6b1-54c00443be8b",
     "showTitle": false,
     "title": ""
    }
   },
   "outputs": [],
   "source": [
    "from transformers import pipeline, AutoTokenizer\n",
    "\n",
    "text_generation = pipeline(\n",
    "    \"text-generation\",\n",
    "    model=\"gpt2\",\n",
    "    model_kwargs={\"cache_dir\":DA.paths.datasets})  # Note: We specify cache_dir to use a pre-cached model.\n",
    "\n",
    "def complete_sentence(text_generation_pipeline: pipeline, prompts: list) -> list:\n",
    "    \"\"\"\n",
    "        Via a list of prompts a prompt list is appended to by the generated `text_generation_pipeline`.\n",
    "    \"\"\"    \n",
    "    prompt_continuations = []\n",
    "    for prompt in prompts:\n",
    "        generation = text_generation_pipeline(prompt, max_length=30, do_sample=False, pad_token_id=50256)\n",
    "        continuation = generation[0][\"generated_text\"].replace(prompt,\"\")\n",
    "        prompt_continuations.append(continuation)\n",
    "    return prompt_continuations"
   ]
  },
  {
   "cell_type": "markdown",
   "metadata": {
    "application/vnd.databricks.v1+cell": {
     "cellMetadata": {},
     "inputWidgets": {},
     "nuid": "70ab8a6a-c409-4dfe-8b7d-274607a02353",
     "showTitle": false,
     "title": ""
    }
   },
   "source": [
    "We will now complete the sentences for the dancers."
   ]
  },
  {
   "cell_type": "code",
   "execution_count": 0,
   "metadata": {
    "application/vnd.databricks.v1+cell": {
     "cellMetadata": {},
     "inputWidgets": {},
     "nuid": "3ab5a6a6-b3e8-4c16-9879-796f800a6ed0",
     "showTitle": false,
     "title": ""
    }
   },
   "outputs": [],
   "source": [
    "dance_continuation = complete_sentence(text_generation, dance_prompts)"
   ]
  },
  {
   "cell_type": "markdown",
   "metadata": {
    "application/vnd.databricks.v1+cell": {
     "cellMetadata": {},
     "inputWidgets": {},
     "nuid": "2b619a73-1763-42c6-ac78-99789303d024",
     "showTitle": false,
     "title": ""
    }
   },
   "source": [
    "Then, let's generate text for scientists."
   ]
  },
  {
   "cell_type": "code",
   "execution_count": 0,
   "metadata": {
    "application/vnd.databricks.v1+cell": {
     "cellMetadata": {},
     "inputWidgets": {},
     "nuid": "604defc9-806f-4a31-b163-e0e4b2a82be0",
     "showTitle": false,
     "title": ""
    }
   },
   "outputs": [],
   "source": [
    "science_continuation = complete_sentence(text_generation, science_prompts)"
   ]
  },
  {
   "cell_type": "markdown",
   "metadata": {
    "application/vnd.databricks.v1+cell": {
     "cellMetadata": {},
     "inputWidgets": {},
     "nuid": "4bcaac30-bd12-48c5-a0f9-aec0034bca03",
     "showTitle": false,
     "title": ""
    }
   },
   "source": [
    "### Question 3\n",
    "Your turn to ask the model to complete sentences for each group!"
   ]
  },
  {
   "cell_type": "code",
   "execution_count": 0,
   "metadata": {
    "application/vnd.databricks.v1+cell": {
     "cellMetadata": {},
     "inputWidgets": {},
     "nuid": "f4f85031-cabb-42f2-ac2b-60bef9e6ac7c",
     "showTitle": false,
     "title": ""
    }
   },
   "outputs": [],
   "source": [
    "# TODO \n",
    "\n",
    "group1_continuation = complete_sentence(<FILL_IN>)\n",
    "group2_continuation = complete_sentence(<FILL_IN>)"
   ]
  },
  {
   "cell_type": "code",
   "execution_count": 0,
   "metadata": {
    "application/vnd.databricks.v1+cell": {
     "cellMetadata": {},
     "inputWidgets": {},
     "nuid": "dc56d0d3-2259-4e16-9846-82ddca3fd1ff",
     "showTitle": false,
     "title": ""
    }
   },
   "outputs": [],
   "source": [
    "# Test your answer. DO NOT MODIFY THIS CELL.\n",
    "\n",
    "dbTestQuestion5_3(group1_continuation, group2_continuation)"
   ]
  },
  {
   "cell_type": "markdown",
   "metadata": {
    "application/vnd.databricks.v1+cell": {
     "cellMetadata": {},
     "inputWidgets": {},
     "nuid": "0e8f81ad-85fe-4110-ba9b-bef1c72162fd",
     "showTitle": false,
     "title": ""
    }
   },
   "source": [
    "Now that we have the prompts and the completion examples by GPT-2, we can evaluate the differences in regard towards both groups."
   ]
  },
  {
   "cell_type": "code",
   "execution_count": 0,
   "metadata": {
    "application/vnd.databricks.v1+cell": {
     "cellMetadata": {},
     "inputWidgets": {},
     "nuid": "78fcbcd2-72fa-4b79-a834-725eabb8c237",
     "showTitle": false,
     "title": ""
    }
   },
   "outputs": [],
   "source": [
    "import evaluate\n",
    "\n",
    "regard = evaluate.load(\n",
    "    \"regard\",\n",
    "    \"compare\",\n",
    "    cache_dir=DA.paths.datasets)"
   ]
  },
  {
   "cell_type": "markdown",
   "metadata": {
    "application/vnd.databricks.v1+cell": {
     "cellMetadata": {},
     "inputWidgets": {},
     "nuid": "541eaa99-6c53-4531-bcaf-6a5c04157a3c",
     "showTitle": false,
     "title": ""
    }
   },
   "source": [
    "Wow, based on the `positive` regard field, we see that people in scientific occupations are regarded much more positively than those in dance (refer to the `positive` field) !"
   ]
  },
  {
   "cell_type": "code",
   "execution_count": 0,
   "metadata": {
    "application/vnd.databricks.v1+cell": {
     "cellMetadata": {},
     "inputWidgets": {},
     "nuid": "d0166e7b-3793-4f28-93e4-56540f833d59",
     "showTitle": false,
     "title": ""
    }
   },
   "outputs": [],
   "source": [
    "# this returns the regard scores of each string in the input list \n",
    "regard.compute(data=science_continuation, references=dance_continuation)"
   ]
  },
  {
   "cell_type": "markdown",
   "metadata": {
    "application/vnd.databricks.v1+cell": {
     "cellMetadata": {},
     "inputWidgets": {},
     "nuid": "19be978a-a917-4a85-b6fa-01a156b71709",
     "showTitle": false,
     "title": ""
    }
   },
   "source": [
    "### Question 4\n",
    "Now, compute regard score for your groups!"
   ]
  },
  {
   "cell_type": "code",
   "execution_count": 0,
   "metadata": {
    "application/vnd.databricks.v1+cell": {
     "cellMetadata": {},
     "inputWidgets": {},
     "nuid": "ae13fc32-b6e7-446f-a22b-e902cedafb14",
     "showTitle": false,
     "title": ""
    }
   },
   "outputs": [],
   "source": [
    "# TODO\n",
    "\n",
    "regard.compute(data=<FILL_IN>, references=<FILL_IN>)"
   ]
  },
  {
   "cell_type": "code",
   "execution_count": 0,
   "metadata": {
    "application/vnd.databricks.v1+cell": {
     "cellMetadata": {},
     "inputWidgets": {},
     "nuid": "7c7892bb-1709-4562-b1ac-f25f4ffd9ee0",
     "showTitle": false,
     "title": ""
    }
   },
   "outputs": [],
   "source": [
    "# Test your answer. DO NOT MODIFY THIS CELL.\n",
    "\n",
    "dbTestQuestion5_4(regard.compute(data=group1_continuation, references=group2_continuation))"
   ]
  },
  {
   "cell_type": "markdown",
   "metadata": {
    "application/vnd.databricks.v1+cell": {
     "cellMetadata": {},
     "inputWidgets": {},
     "nuid": "ca86a240-26c6-476b-a041-47e217db26cb",
     "showTitle": false,
     "title": ""
    }
   },
   "source": [
    "## Bonus: NLP Test\n",
    "\n",
    "To switch gears a bit, we will now turn to looking at how we can test our NLP models and see how safe and effective they are using `nlptest`. The [library](https://nlptest.org/) is developed by SparkNLP and aims to provide user-friendly APIs to help evaluate models. This library was just released in April 2023. \n",
    "\n",
    "The test categories include:\n",
    "\n",
    "- Accuracy\n",
    "- Bias\n",
    "- Fairness\n",
    "- Representation\n",
    "- Robustness\n",
    "\n",
    "Currently, the library supports either `text-classification` or `ner` task.\n",
    "\n",
    "To start, we will use the `Harness` class to define what types of tests we would like to conduct on any given NLP model. You can read more about [Harness here](https://nlptest.org/docs/pages/docs/harness). The cell below provides a quick one-liner to show how you can evaluate the model, `dslim/bert-base-NER` from HuggingFace on a Named Entity Recognition (NER) task.\n",
    "\n",
    "You can choose to provide your own saved model or load existing models from `spacy` or `John Snow Labs` as well."
   ]
  },
  {
   "cell_type": "code",
   "execution_count": 0,
   "metadata": {
    "application/vnd.databricks.v1+cell": {
     "cellMetadata": {},
     "inputWidgets": {},
     "nuid": "e6475169-b52a-4b91-98c3-ac24863a4f22",
     "showTitle": false,
     "title": ""
    }
   },
   "outputs": [],
   "source": [
    "from nlptest import Harness\n",
    "\n",
    "# Create a Harness object\n",
    "h = Harness(task=\"ner\", model=\"dslim/bert-base-NER\", hub=\"huggingface\")"
   ]
  },
  {
   "cell_type": "markdown",
   "metadata": {
    "application/vnd.databricks.v1+cell": {
     "cellMetadata": {},
     "inputWidgets": {},
     "nuid": "743f3787-4619-44fe-b761-82116ca695c6",
     "showTitle": false,
     "title": ""
    }
   },
   "source": [
    "We won't run the following cell since it could take up to 7 mins. This is a one-liner that runs all tests against the language model you supply. \n",
    "\n",
    "Notice that it consists of three steps: \n",
    "1. Generate test cases\n",
    "2. Run the test cases\n",
    "3. Generate a report of your test cases"
   ]
  },
  {
   "cell_type": "code",
   "execution_count": 0,
   "metadata": {
    "application/vnd.databricks.v1+cell": {
     "cellMetadata": {},
     "inputWidgets": {},
     "nuid": "8a105cff-aa81-4f99-a583-d95ccc5a851b",
     "showTitle": false,
     "title": ""
    }
   },
   "outputs": [],
   "source": [
    "# h.generate().run().report() "
   ]
  },
  {
   "cell_type": "markdown",
   "metadata": {
    "application/vnd.databricks.v1+cell": {
     "cellMetadata": {},
     "inputWidgets": {},
     "nuid": "2a67581b-18a8-460c-8bad-267c9636e71f",
     "showTitle": false,
     "title": ""
    }
   },
   "source": [
    "If you do run `h.generate().run.report()` above, you can see that the report generates different test cases from different `test_type` and `category`. Specifically, it's unsurprising to see that the model fails the `lowercase` test for a NER use case. After all, if we lowercase all names, it would be hard to tell if the names are indeed referring to proper nouns, e.g. \"the los angeles time\" vs. \"the Los Angeles Times\".\n",
    "\n",
    "You can get a complete list of tests in their [documentation](https://nlptest.org/docs/pages/tests/test). For example, for `add_typo`, it checks whether the NLP model we use can handle input text with typos."
   ]
  },
  {
   "cell_type": "markdown",
   "metadata": {
    "application/vnd.databricks.v1+cell": {
     "cellMetadata": {},
     "inputWidgets": {},
     "nuid": "0574e2e9-f6da-46f4-a492-b824d9aee8a3",
     "showTitle": false,
     "title": ""
    }
   },
   "source": [
    "## Submit your Results!\n",
    "\n",
    "To get credit for this lab, click the submit button to report the results. If you run into any issues, click `Run` -> `Clear state and run all`, and make sure all tests have passed before re-submitting. If you accidentally deleted any tests, take a look at the notebook's version history to recover them or reload the notebooks."
   ]
  },
  {
   "cell_type": "markdown",
   "metadata": {
    "application/vnd.databricks.v1+cell": {
     "cellMetadata": {},
     "inputWidgets": {},
     "nuid": "b18e33e1-b8ed-485c-a54a-91d618204748",
     "showTitle": false,
     "title": ""
    }
   },
   "source": [
    "-sandbox\n",
    "&copy; 2023 Databricks, Inc. All rights reserved.<br/>\n",
    "Apache, Apache Spark, Spark and the Spark logo are trademarks of the <a href=\"https://www.apache.org/\">Apache Software Foundation</a>.<br/>\n",
    "<br/>\n",
    "<a href=\"https://databricks.com/privacy-policy\">Privacy Policy</a> | <a href=\"https://databricks.com/terms-of-use\">Terms of Use</a> | <a href=\"https://help.databricks.com/\">Support</a>"
   ]
  }
 ],
 "metadata": {
  "application/vnd.databricks.v1+notebook": {
   "dashboards": [],
   "language": "python",
   "notebookMetadata": {
    "pythonIndentUnit": 2
   },
   "notebookName": "LLM 05L - LLMs and Society Lab",
   "widgets": {}
  }
 },
 "nbformat": 4,
 "nbformat_minor": 0
}
