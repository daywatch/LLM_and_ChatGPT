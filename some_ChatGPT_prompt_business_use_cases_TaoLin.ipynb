{
  "nbformat": 4,
  "nbformat_minor": 0,
  "metadata": {
    "colab": {
      "provenance": [],
      "toc_visible": true,
      "authorship_tag": "ABX9TyOqwhovC6Ntvd+xUlAkZdOe",
      "include_colab_link": true
    },
    "kernelspec": {
      "name": "python3",
      "display_name": "Python 3"
    },
    "language_info": {
      "name": "python"
    }
  },
  "cells": [
    {
      "cell_type": "markdown",
      "metadata": {
        "id": "view-in-github",
        "colab_type": "text"
      },
      "source": [
        "<a href=\"https://colab.research.google.com/github/daywatch/LLM_and_ChatGPT/blob/main/some_ChatGPT_prompt_business_use_cases_TaoLin.ipynb\" target=\"_parent\"><img src=\"https://colab.research.google.com/assets/colab-badge.svg\" alt=\"Open In Colab\"/></a>"
      ]
    },
    {
      "cell_type": "code",
      "source": [
        "!pip install openai\n",
        "!pip install python-dotenv"
      ],
      "metadata": {
        "colab": {
          "base_uri": "https://localhost:8080/"
        },
        "id": "EBDKkBVnMGQd",
        "outputId": "c8586b8b-e6b2-4f1c-d212-812b6e71e7b3"
      },
      "execution_count": 1,
      "outputs": [
        {
          "output_type": "stream",
          "name": "stdout",
          "text": [
            "Looking in indexes: https://pypi.org/simple, https://us-python.pkg.dev/colab-wheels/public/simple/\n",
            "Collecting openai\n",
            "  Downloading openai-0.27.7-py3-none-any.whl (71 kB)\n",
            "\u001b[2K     \u001b[90m━━━━━━━━━━━━━━━━━━━━━━━━━━━━━━━━━━━━━━━━\u001b[0m \u001b[32m72.0/72.0 kB\u001b[0m \u001b[31m4.6 MB/s\u001b[0m eta \u001b[36m0:00:00\u001b[0m\n",
            "\u001b[?25hRequirement already satisfied: requests>=2.20 in /usr/local/lib/python3.10/dist-packages (from openai) (2.27.1)\n",
            "Requirement already satisfied: tqdm in /usr/local/lib/python3.10/dist-packages (from openai) (4.65.0)\n",
            "Collecting aiohttp (from openai)\n",
            "  Downloading aiohttp-3.8.4-cp310-cp310-manylinux_2_17_x86_64.manylinux2014_x86_64.whl (1.0 MB)\n",
            "\u001b[2K     \u001b[90m━━━━━━━━━━━━━━━━━━━━━━━━━━━━━━━━━━━━━━━━\u001b[0m \u001b[32m1.0/1.0 MB\u001b[0m \u001b[31m26.3 MB/s\u001b[0m eta \u001b[36m0:00:00\u001b[0m\n",
            "\u001b[?25hRequirement already satisfied: urllib3<1.27,>=1.21.1 in /usr/local/lib/python3.10/dist-packages (from requests>=2.20->openai) (1.26.15)\n",
            "Requirement already satisfied: certifi>=2017.4.17 in /usr/local/lib/python3.10/dist-packages (from requests>=2.20->openai) (2022.12.7)\n",
            "Requirement already satisfied: charset-normalizer~=2.0.0 in /usr/local/lib/python3.10/dist-packages (from requests>=2.20->openai) (2.0.12)\n",
            "Requirement already satisfied: idna<4,>=2.5 in /usr/local/lib/python3.10/dist-packages (from requests>=2.20->openai) (3.4)\n",
            "Requirement already satisfied: attrs>=17.3.0 in /usr/local/lib/python3.10/dist-packages (from aiohttp->openai) (23.1.0)\n",
            "Collecting multidict<7.0,>=4.5 (from aiohttp->openai)\n",
            "  Downloading multidict-6.0.4-cp310-cp310-manylinux_2_17_x86_64.manylinux2014_x86_64.whl (114 kB)\n",
            "\u001b[2K     \u001b[90m━━━━━━━━━━━━━━━━━━━━━━━━━━━━━━━━━━━━━━\u001b[0m \u001b[32m114.5/114.5 kB\u001b[0m \u001b[31m12.7 MB/s\u001b[0m eta \u001b[36m0:00:00\u001b[0m\n",
            "\u001b[?25hCollecting async-timeout<5.0,>=4.0.0a3 (from aiohttp->openai)\n",
            "  Downloading async_timeout-4.0.2-py3-none-any.whl (5.8 kB)\n",
            "Collecting yarl<2.0,>=1.0 (from aiohttp->openai)\n",
            "  Downloading yarl-1.9.2-cp310-cp310-manylinux_2_17_x86_64.manylinux2014_x86_64.whl (268 kB)\n",
            "\u001b[2K     \u001b[90m━━━━━━━━━━━━━━━━━━━━━━━━━━━━━━━━━━━━━━\u001b[0m \u001b[32m268.8/268.8 kB\u001b[0m \u001b[31m16.7 MB/s\u001b[0m eta \u001b[36m0:00:00\u001b[0m\n",
            "\u001b[?25hCollecting frozenlist>=1.1.1 (from aiohttp->openai)\n",
            "  Downloading frozenlist-1.3.3-cp310-cp310-manylinux_2_5_x86_64.manylinux1_x86_64.manylinux_2_17_x86_64.manylinux2014_x86_64.whl (149 kB)\n",
            "\u001b[2K     \u001b[90m━━━━━━━━━━━━━━━━━━━━━━━━━━━━━━━━━━━━━━\u001b[0m \u001b[32m149.6/149.6 kB\u001b[0m \u001b[31m15.5 MB/s\u001b[0m eta \u001b[36m0:00:00\u001b[0m\n",
            "\u001b[?25hCollecting aiosignal>=1.1.2 (from aiohttp->openai)\n",
            "  Downloading aiosignal-1.3.1-py3-none-any.whl (7.6 kB)\n",
            "Installing collected packages: multidict, frozenlist, async-timeout, yarl, aiosignal, aiohttp, openai\n",
            "Successfully installed aiohttp-3.8.4 aiosignal-1.3.1 async-timeout-4.0.2 frozenlist-1.3.3 multidict-6.0.4 openai-0.27.7 yarl-1.9.2\n",
            "Looking in indexes: https://pypi.org/simple, https://us-python.pkg.dev/colab-wheels/public/simple/\n",
            "Collecting python-dotenv\n",
            "  Downloading python_dotenv-1.0.0-py3-none-any.whl (19 kB)\n",
            "Installing collected packages: python-dotenv\n",
            "Successfully installed python-dotenv-1.0.0\n"
          ]
        }
      ]
    },
    {
      "cell_type": "code",
      "source": [
        "import os\n",
        "import openai\n",
        "\n",
        "# Load your API key from an environment variable or secret management service\n",
        "\n",
        "from dotenv import load_dotenv, find_dotenv\n",
        "_ = load_dotenv(find_dotenv())\n",
        "\n",
        "#openai.api_key  = os.getenv('OPENAI_API_KEY')\n",
        "\n",
        "openai.api_key = \"123\""
      ],
      "metadata": {
        "id": "WWpII6xwMTZQ"
      },
      "execution_count": 4,
      "outputs": []
    },
    {
      "cell_type": "code",
      "source": [
        "def get_completion(prompt, model=\"gpt-3.5-turbo\",temperature=3): # Andrew mentioned that the prompt/ completion paradigm is preferable for this class\n",
        "    messages = [{\"role\": \"user\", \"content\": prompt}]\n",
        "    response = openai.ChatCompletion.create(\n",
        "        model=model,\n",
        "        messages=messages,\n",
        "        temperature=temperature, # this is the degree of randomness of the model's output\n",
        "    )\n",
        "    return response.choices[0].message[\"content\"]"
      ],
      "metadata": {
        "id": "1WmNBuAxSXBq"
      },
      "execution_count": 12,
      "outputs": []
    },
    {
      "cell_type": "markdown",
      "source": [
        "## IT"
      ],
      "metadata": {
        "id": "YBVIvArLLhZo"
      }
    },
    {
      "cell_type": "markdown",
      "source": [
        "### 1. Compose an email"
      ],
      "metadata": {
        "id": "zxRZS4ziVec-"
      }
    },
    {
      "cell_type": "code",
      "source": [
        "issue_description = f\"\"\"\n",
        "Network outbreak since 8 pm PST in Santa Clara on June 2, 2023. \\\n",
        "global scope. will last 36 hours.\\\n",
        "Employees'services are restored, including Zoom, OneDrive, AWS services, DocuSign. \n",
        "\"\"\"\n",
        "\n",
        "prompt = f\"\"\"\n",
        "Issue:{issue_description}\n",
        "\n",
        "Requirement: You are an assistant from IT department. Write an email to all employees about the situation. If there are any problems, \\\n",
        "they need to contact the IT department using it_helpdesk@gmail.com or call 425-413-0391. \\\n",
        "No more than 150 words. Use formal business succinct style. The email body is in HTML format.\\\n",
        "\n",
        "After the email, include a table that gives the \n",
        "product's dimensions. Add The table should have two columns. Add borders to the table.\n",
        "In the first row include these items:\n",
        " \n",
        "- Ticket number\n",
        "- Issue type\n",
        "- Start time\n",
        "- End time\n",
        "- Reason of the issue\n",
        "- Location\n",
        "- Affected services\n",
        "- Status\n",
        "\n",
        "In the second column include the values of the first row. If the value cannot be found, enter \"N/A\". \\\n",
        "\n",
        "Format everything as HTML format that can be used in a website. \n",
        "Place everything in a <div> element. The email and table are separated by a new line.\n",
        "After adding a new line, end the email with a signature.\n",
        "\"\"\"\n",
        "\n",
        "response = get_completion(prompt,temperature=0)\n",
        "print(response)"
      ],
      "metadata": {
        "colab": {
          "base_uri": "https://localhost:8080/"
        },
        "id": "_LUGSWCySebe",
        "outputId": "db8b3603-bc41-4485-85a1-1f233736f0bc"
      },
      "execution_count": 54,
      "outputs": [
        {
          "output_type": "stream",
          "name": "stdout",
          "text": [
            "<div>\n",
            "  <p>Dear Employees,</p>\n",
            "  <p>We regret to inform you that there has been a network outbreak since 8 pm PST in Santa Clara on June 2, 2023. The outbreak has a global scope and is expected to last for 36 hours. However, we are pleased to inform you that all employee services have been restored, including Zoom, OneDrive, AWS services, and DocuSign.</p>\n",
            "  <p>If you encounter any problems, please contact the IT department using it_helpdesk@gmail.com or call 425-413-0391.</p>\n",
            "  <br>\n",
            "  <table style=\"border-collapse: collapse; border: 1px solid black;\">\n",
            "    <tr>\n",
            "      <th style=\"border: 1px solid black;\">Ticket number</th>\n",
            "      <th style=\"border: 1px solid black;\">Issue type</th>\n",
            "      <th style=\"border: 1px solid black;\">Start time</th>\n",
            "      <th style=\"border: 1px solid black;\">End time</th>\n",
            "      <th style=\"border: 1px solid black;\">Reason of the issue</th>\n",
            "      <th style=\"border: 1px solid black;\">Location</th>\n",
            "      <th style=\"border: 1px solid black;\">Affected services</th>\n",
            "      <th style=\"border: 1px solid black;\">Status</th>\n",
            "    </tr>\n",
            "    <tr>\n",
            "      <td style=\"border: 1px solid black;\">N/A</td>\n",
            "      <td style=\"border: 1px solid black;\">Network outbreak</td>\n",
            "      <td style=\"border: 1px solid black;\">8 pm PST on June 2, 2023</td>\n",
            "      <td style=\"border: 1px solid black;\">36 hours later</td>\n",
            "      <td style=\"border: 1px solid black;\">N/A</td>\n",
            "      <td style=\"border: 1px solid black;\">Santa Clara</td>\n",
            "      <td style=\"border: 1px solid black;\">Zoom, OneDrive, AWS services, DocuSign</td>\n",
            "      <td style=\"border: 1px solid black;\">Resolved</td>\n",
            "    </tr>\n",
            "  </table>\n",
            "  <br>\n",
            "  <p>Thank you for your understanding and cooperation.</p>\n",
            "  <p>Best regards,</p>\n",
            "  <p>IT Department</p>\n",
            "</div>\n"
          ]
        }
      ]
    },
    {
      "cell_type": "code",
      "source": [
        "from IPython.display import display, HTML\n",
        "display(HTML(response))"
      ],
      "metadata": {
        "colab": {
          "base_uri": "https://localhost:8080/",
          "height": 280
        },
        "id": "svuh-ypLfba8",
        "outputId": "e1549f89-5756-40a4-e1d9-45a5dde927f8"
      },
      "execution_count": 55,
      "outputs": [
        {
          "output_type": "display_data",
          "data": {
            "text/plain": [
              "<IPython.core.display.HTML object>"
            ],
            "text/html": [
              "<div>\n",
              "  <p>Dear Employees,</p>\n",
              "  <p>We regret to inform you that there has been a network outbreak since 8 pm PST in Santa Clara on June 2, 2023. The outbreak has a global scope and is expected to last for 36 hours. However, we are pleased to inform you that all employee services have been restored, including Zoom, OneDrive, AWS services, and DocuSign.</p>\n",
              "  <p>If you encounter any problems, please contact the IT department using it_helpdesk@gmail.com or call 425-413-0391.</p>\n",
              "  <br>\n",
              "  <table style=\"border-collapse: collapse; border: 1px solid black;\">\n",
              "    <tr>\n",
              "      <th style=\"border: 1px solid black;\">Ticket number</th>\n",
              "      <th style=\"border: 1px solid black;\">Issue type</th>\n",
              "      <th style=\"border: 1px solid black;\">Start time</th>\n",
              "      <th style=\"border: 1px solid black;\">End time</th>\n",
              "      <th style=\"border: 1px solid black;\">Reason of the issue</th>\n",
              "      <th style=\"border: 1px solid black;\">Location</th>\n",
              "      <th style=\"border: 1px solid black;\">Affected services</th>\n",
              "      <th style=\"border: 1px solid black;\">Status</th>\n",
              "    </tr>\n",
              "    <tr>\n",
              "      <td style=\"border: 1px solid black;\">N/A</td>\n",
              "      <td style=\"border: 1px solid black;\">Network outbreak</td>\n",
              "      <td style=\"border: 1px solid black;\">8 pm PST on June 2, 2023</td>\n",
              "      <td style=\"border: 1px solid black;\">36 hours later</td>\n",
              "      <td style=\"border: 1px solid black;\">N/A</td>\n",
              "      <td style=\"border: 1px solid black;\">Santa Clara</td>\n",
              "      <td style=\"border: 1px solid black;\">Zoom, OneDrive, AWS services, DocuSign</td>\n",
              "      <td style=\"border: 1px solid black;\">Resolved</td>\n",
              "    </tr>\n",
              "  </table>\n",
              "  <br>\n",
              "  <p>Thank you for your understanding and cooperation.</p>\n",
              "  <p>Best regards,</p>\n",
              "  <p>IT Department</p>\n",
              "</div>"
            ]
          },
          "metadata": {}
        }
      ]
    },
    {
      "cell_type": "markdown",
      "source": [
        "### 2. Keyword detection\n",
        "Similar to entity detection or topic model"
      ],
      "metadata": {
        "id": "McK7pEfrdNTt"
      }
    },
    {
      "cell_type": "code",
      "source": [
        "slack_message1 = f\"\"\"Hey folks, i don’t see a way to have diff queue or any other integrations with phab/etc. \\\n",
        "Can we have some or there is no support for that at all?\"\"\"\n",
        "\n",
        "slack_message2 = f\"\"\"hi - I'm in conference room Piccadilly in 764 Marketplace in Santa Barbara \\\n",
        "and the audio isn't working here. Can someone please assist?\n",
        "\"\"\"\n",
        "\n",
        "stackoverflow_message1= f\"\"\" I am new to GitHub API, not sure if it's the best solution either.\n",
        "But suppose I have a list of Repositories in which I want to commit in the future or have committed already as a .md file, can be a .txt file also if it suits the purpose.\n",
        "e.g.\n",
        "| Serial Number  | Name |\n",
        "| ------------- | ------------- |\n",
        "| 1  | [Badges](https://github.com/badges/shields)  |\n",
        "| 2  | [Tensorflow](https://github.com/tensorflow/tensorflow)  |\n",
        "etc\n",
        "Now let's say, I contributed once in TF. I want to sort the .md file or .txt according to the number of contributions.\n",
        "Of course, the list might contain REPO in which I haven't contributed at all like Badges here.\n",
        "Lastly, can someone suggest how to automate this\n",
        "\"\"\"\n",
        "\n",
        "prompt = f\"\"\"\n",
        "\n",
        "Requirement: You are analyzing several descriptions of IT issues. \n",
        "\n",
        "The first issue is: {slack_message1} \\\n",
        "\n",
        "The second issue is: {slack_message2} \\ \n",
        "\n",
        "The third issue is: {stackoverflow_message1} \\ \n",
        "\n",
        "Please generate keywords for each issue. Then return a final list. The final list only has top-7 elements. The final list has no duplicates.\\\n",
        "\n",
        "\"\"\"\n",
        "\n",
        "response = get_completion(prompt,temperature=0)\n",
        "print(response)"
      ],
      "metadata": {
        "colab": {
          "base_uri": "https://localhost:8080/"
        },
        "id": "loHouI40dWD8",
        "outputId": "a03d6bec-dd17-475c-f4db-1ee06842c108"
      },
      "execution_count": 68,
      "outputs": [
        {
          "output_type": "stream",
          "name": "stdout",
          "text": [
            "Keywords for each issue:\n",
            "\n",
            "Issue 1: queue, integrations, phab, support\n",
            "Issue 2: conference room, audio, assistance\n",
            "Issue 3: GitHub API, repositories, commit, .md file, .txt file, contributions, automation\n",
            "\n",
            "Final list of top-7 keywords with no duplicates:\n",
            "GitHub API, repositories, commit, automation, queue, integrations, audio\n"
          ]
        }
      ]
    },
    {
      "cell_type": "markdown",
      "source": [
        "# HR"
      ],
      "metadata": {
        "id": "1p86w61nL5bz"
      }
    },
    {
      "cell_type": "markdown",
      "source": [
        "### 1. Generate a customized job description\n",
        "\n"
      ],
      "metadata": {
        "id": "6kNeJYllz1wR"
      }
    },
    {
      "cell_type": "code",
      "source": [
        "keyword_package = {\n",
        "  \"Job title\":\"Logistics Operator L1\",\n",
        "  \"Location\":\"Oregon\",\n",
        "  \"Duty\":\"transportation transport inventory, Standard Operating Practices and Work Instructions, qu 5S standard\",\n",
        "  \"Basic skills\":\"valid driver’s license, Department of Transportation (DOT) Medical Card physical exam\",\n",
        " \"Preferred skills\":\"HS diploma or GED, 1+ year of operation and box driving experience, apple devices, material handling in a warehouse\",\n",
        "  \"Soft skills\":\"changing priorities, timely decisions and actions, team player, sense of safety, efficiency in operation tasks, new skills, initiatives, positive, respect, communication skills\",\n",
        "\"Company value\": \"Our employees shape the way technology is delivered. Our role as a IT Services Provider grants our people the unique opportunity to work with some of the biggest names in the tech industry without sacrificing the open communication or the sense of community of a close-knit work environment. \"\n",
        "}\n",
        "\n",
        "prompt = f\"\"\"\n",
        "\n",
        "Please generate a job description for a {keyword_package[\"Job title\"]}. \\\n",
        "The ideal candidate should be able to {keyword_package[\"Duty\"]}. \\\n",
        "They should have hard skills like {keyword_package[\"Basic skills\"]} and show soft skills like {keyword_package[\"Soft skills\"]}. \\\n",
        "Please include the job responsibilities and required qualifications that fits the company value like {keyword_package[\"Company value\"]}. \\\n",
        "No more than 650 words. No repeated requirements. Keep different sentence alternations and reduce repeatition. \n",
        "\n",
        "\"\"\"\n",
        "\n",
        "response = get_completion(prompt,temperature=0)\n",
        "print(response)"
      ],
      "metadata": {
        "colab": {
          "base_uri": "https://localhost:8080/"
        },
        "id": "5j2Y-ABkvs33",
        "outputId": "7b891912-eb18-477d-c30f-c1ce4d91238f"
      },
      "execution_count": 76,
      "outputs": [
        {
          "output_type": "stream",
          "name": "stdout",
          "text": [
            "Job Description: Logistics Operator L1\n",
            "\n",
            "Our company is seeking a Logistics Operator L1 to join our team. As a Logistics Operator L1, you will be responsible for the transportation of inventory, following Standard Operating Practices and Work Instructions, and maintaining the 5S standard. The ideal candidate should have hard skills such as a valid driver’s license, Department of Transportation (DOT) Medical Card physical exam, and the ability to operate a forklift. Additionally, the candidate should possess soft skills such as the ability to change priorities, make timely decisions and actions, work well in a team, have a sense of safety, be efficient in operation tasks, be willing to learn new skills, take initiatives, have a positive attitude, and possess excellent communication skills.\n",
            "\n",
            "Responsibilities:\n",
            "- Transport inventory to and from designated locations\n",
            "- Follow Standard Operating Practices and Work Instructions\n",
            "- Maintain the 5S standard\n",
            "- Operate a forklift to move inventory\n",
            "- Ensure the safety of all personnel and equipment\n",
            "- Communicate effectively with team members and management\n",
            "- Maintain accurate records of inventory movement\n",
            "- Assist with inventory counts and audits\n",
            "- Perform other duties as assigned\n",
            "\n",
            "Qualifications:\n",
            "- Valid driver’s license\n",
            "- Department of Transportation (DOT) Medical Card physical exam\n",
            "- Ability to operate a forklift\n",
            "- Ability to lift up to 50 pounds\n",
            "- Ability to work in a fast-paced environment\n",
            "- Ability to work well in a team\n",
            "- Ability to make timely decisions and actions\n",
            "- Ability to prioritize tasks\n",
            "- Positive attitude\n",
            "- Willingness to learn new skills\n",
            "- Initiative\n",
            "- Excellent communication skills\n",
            "- Sense of safety\n",
            "- Efficiency in operation tasks\n",
            "\n",
            "Our company values our employees and believes that they shape the way technology is delivered. As an IT Services Provider, we offer our employees the unique opportunity to work with some of the biggest names in the tech industry without sacrificing the open communication or the sense of community of a close-knit work environment. We are looking for a Logistics Operator L1 who shares our values and is willing to work hard to help us achieve our goals. If you are a team player with a positive attitude and excellent communication skills, we encourage you to apply for this position.\n"
          ]
        }
      ]
    },
    {
      "cell_type": "markdown",
      "source": [
        "Thoughts for improvements: \n",
        "\n",
        "\n",
        "*   Make the JSON keys more distinct, e.g.,\n",
        "*   Mix hard and soft skills\n",
        "*   Rewrite the outline of the discourse (the template here is summary-responsibility-qualification)\n",
        "*   Merge different drafts\n",
        "\n",
        "\n",
        "\n",
        "\n"
      ],
      "metadata": {
        "id": "9qSjgaalEuwb"
      }
    },
    {
      "cell_type": "markdown",
      "source": [
        "useful resource: https://www.youtube.com/watch?v=6MIt81Focss\n",
        "\n"
      ],
      "metadata": {
        "id": "rl5mTP0ZG0t_"
      }
    },
    {
      "cell_type": "markdown",
      "source": [
        "### 2. Write interview questions for jobs"
      ],
      "metadata": {
        "id": "ZO5aUr0zHKck"
      }
    },
    {
      "cell_type": "code",
      "source": [
        "job_description = f\"\"\"\n",
        "Duties\n",
        "* Work as part of a team of logistics operators who work together and independently\n",
        "* Ensure all operations are carried out in a proactive, compliant and effective manner\n",
        "* Ensure compliance of operational execution in line with Standard Operating Practices and Work Instructions.\n",
        "* Maintain strict inventory control and conduct accurate system transactions\n",
        "* Ensure accurate and timely shipments and receipts\n",
        "* Transport inventory by hand, material handling equipment (i.e. forklifts or pallet jacks) and box truck (No commercial driver’s license required) in accordance with all safety procedures and protocol\n",
        "* Complete other duties that may be assigned as required with consideration for quality, safety and efficiency\n",
        "* Commit to excellence in your contribution to overall Service Delivery\n",
        "* Work alongside Team members to assist in workload execution, monitor quality, observer areas for improvement and support service knowledge growth.\n",
        "* Ensure the maintenance of 5S standard within all operational areas.\n",
        "* Escalate all areas of service non-compliance in a timely and effective manner to support investigation and remediation\n",
        "* Participate in all assigned in training to support the execution of their assigned responsibilities.\n",
        "* Ensure proactive customer service support to the Client and other operational teams as required\n",
        "Basic qualifications:\n",
        "* Current valid driver’s license and ability to pass a Motor Vehicle Record Check\n",
        "* Ability to pass a Department of Transportation (DOT) Medical Card physical exam (US only)\n",
        "* Demonstrate a willingness to be challenged and learn new skills\n",
        "    * Inventory control skills, manage priorities and workflow \n",
        "    * Computer, iPad, and iPhone literate \n",
        "* Ability to work in a physical labor dynamic work environment\n",
        "* Ability to work with instruction as part of a larger team\n",
        "* Initiative to complete tasks as assigned independent of the team\n",
        "* Agility to manage changing workload priorities as directed\n",
        "* Ensure a positive, respectful, and professional attitude in everything you do\n",
        "* Competency in understanding and performing workplace safety basics\n",
        "* Good written and verbal communication skills\n",
        "* Excellent Customer Service skills\n",
        "* Able to safely lift and move a minimum of fifty (50) pounds and can stand the duration of the shift\n",
        "* Align with our Milestone Core Values of sense of urgency, collaboration, open honest respectful communication, do what we say and going above and beyond\n",
        "Preferred Qualifications\n",
        "* HS Diploma or GED \n",
        "* 1+ years of operations experience  \n",
        "* 1+ years of material handling in a warehouse, manufacturing, or distribution center environment\n",
        "* Proficient in Windows, Apple (Mac and iPad) and peripheral devices\n",
        "* Box truck driving experience\n",
        "* Forklift or electric pallet jack experience\n",
        "* Versatile, flexible, and a willing to work within constantly changing priorities with enthusiasm \n",
        "* Good judgment with the ability to make timely and sound decisions \n",
        "* Understand all safety requirements and cautions \n",
        "\"\"\"\n",
        "\n",
        "prompt = f\"\"\"\n",
        "Generate the top-25 technical interview questions for the job description below and sample answers:\n",
        "{job_description}\n",
        "\"\"\"\n",
        "\n",
        "response = get_completion(prompt,temperature=0)\n",
        "print(response)"
      ],
      "metadata": {
        "colab": {
          "base_uri": "https://localhost:8080/"
        },
        "id": "Z1h3QgGGHSqh",
        "outputId": "ef5e7f14-e6c1-46e2-f22d-c00828bd865d"
      },
      "execution_count": 78,
      "outputs": [
        {
          "output_type": "stream",
          "name": "stdout",
          "text": [
            "1. Can you describe your experience with inventory control and management?\n",
            "Sample answer: In my previous role, I was responsible for maintaining accurate inventory records and conducting regular physical counts to ensure accuracy. I also implemented a system for tracking inventory levels and ordering new supplies when necessary to prevent stockouts.\n",
            "\n",
            "2. How do you ensure compliance with Standard Operating Practices and Work Instructions?\n",
            "Sample answer: I make sure to thoroughly review all SOPs and work instructions before beginning any task, and I follow them closely to ensure compliance. If I have any questions or concerns, I seek clarification from my supervisor before proceeding.\n",
            "\n",
            "3. Have you ever operated a forklift or pallet jack before? If so, can you describe your experience?\n",
            "Sample answer: Yes, I have experience operating both forklifts and pallet jacks. I am certified to operate both and have used them extensively in previous roles to move inventory and materials around a warehouse or distribution center.\n",
            "\n",
            "4. How do you prioritize your workload when you have multiple tasks to complete?\n",
            "Sample answer: I prioritize my workload based on urgency and importance. I make a list of all the tasks I need to complete and then rank them in order of priority. I also make sure to communicate with my supervisor if I need help or if there are any changes to my workload.\n",
            "\n",
            "5. Can you describe your experience with box truck driving?\n",
            "Sample answer: While I do not have direct experience with box truck driving, I am willing to learn and obtain any necessary certifications. I have experience driving other types of vehicles and am confident in my ability to learn quickly.\n",
            "\n",
            "6. How do you ensure the accuracy of shipments and receipts?\n",
            "Sample answer: I carefully review all documentation and compare it to the physical inventory to ensure accuracy. I also make sure to double-check all system transactions to ensure they match the physical inventory.\n",
            "\n",
            "7. Have you ever had to escalate a service non-compliance issue? If so, can you describe the situation and how you handled it?\n",
            "Sample answer: Yes, I have had to escalate a service non-compliance issue in the past. I immediately notified my supervisor and provided all relevant information to support the investigation and remediation process. I also made sure to follow up to ensure the issue was resolved.\n",
            "\n",
            "8. How do you ensure a positive, respectful, and professional attitude in everything you do?\n",
            "Sample answer: I believe in treating others with respect and professionalism at all times. I make sure to communicate clearly and effectively, listen actively, and always strive to find solutions that benefit everyone involved.\n",
            "\n",
            "9. Can you describe your experience with workplace safety basics?\n",
            "Sample answer: I have received extensive training in workplace safety basics, including proper lifting techniques, hazard identification, and emergency procedures. I always make sure to follow all safety protocols to ensure a safe work environment for myself and my colleagues.\n",
            "\n",
            "10. How do you handle changing workload priorities?\n",
            "Sample answer: I am adaptable and flexible, and I understand that priorities can change quickly in a dynamic work environment. I make sure to communicate with my supervisor and colleagues to ensure everyone is aware of any changes and to ensure that we are all working together to meet our goals.\n",
            "\n",
            "11. Can you describe your experience with customer service?\n",
            "Sample answer: I have extensive experience in customer service, both in-person and over the phone. I believe in providing excellent service to all customers and always strive to exceed their expectations.\n",
            "\n",
            "12. How do you ensure accurate system transactions?\n",
            "Sample answer: I carefully review all documentation and compare it to the physical inventory to ensure accuracy. I also make sure to double-check all system transactions to ensure they match the physical inventory.\n",
            "\n",
            "13. Can you describe your experience with material handling in a warehouse, manufacturing, or distribution center environment?\n",
            "Sample answer: I have experience working in a warehouse environment and have handled a variety of materials, including raw materials, finished goods, and hazardous materials. I am familiar with all relevant safety protocols and have experience operating a variety of material handling equipment.\n",
            "\n",
            "14. How do you ensure strict inventory control?\n",
            "Sample answer: I make sure to conduct regular physical counts and compare them to the system records to ensure accuracy. I also make sure to follow all relevant procedures for receiving, storing, and shipping inventory to prevent loss or damage.\n",
            "\n",
            "15. Can you describe your experience with Windows, Apple, and peripheral devices?\n",
            "Sample answer: I am proficient in both Windows and Apple operating systems and have experience using a variety of peripheral devices, including printers, scanners, and mobile devices.\n",
            "\n",
            "16. How do you ensure compliance with all safety requirements and cautions?\n",
            "Sample answer: I make sure to thoroughly review all safety requirements and cautions before beginning any task, and I follow them closely to ensure compliance. If I have any questions or concerns, I seek clarification from my supervisor before proceeding.\n",
            "\n",
            "17. Can you describe your experience working as part of a team?\n",
            "Sample answer: I have extensive experience working as part of a team and understand the importance of clear communication, collaboration, and mutual respect. I always strive to be a supportive and reliable team member and am willing to help out wherever needed.\n",
            "\n",
            "18. How do you ensure accurate and timely shipments and receipts?\n",
            "Sample answer: I carefully review all documentation and compare it to the physical inventory to ensure accuracy. I also make sure to double-check all system transactions to ensure they match the physical inventory.\n",
            "\n",
            "19. Can you describe your experience with 5S standards?\n",
            "Sample answer: I am familiar with 5S standards and understand the importance of maintaining a clean and organized work environment. I always make sure to follow all relevant procedures for maintaining a clean and organized workspace.\n",
            "\n",
            "20. How do you ensure proactive customer service support to the client and other operational teams?\n",
            "Sample answer: I make sure to communicate clearly and effectively with all customers and operational teams to ensure their needs are met and their questions are answered. I also make sure to follow up to ensure their satisfaction and to identify areas for improvement.\n",
            "\n",
            "21. Can you describe your experience with managing priorities and workflow?\n",
            "Sample answer: I have experience managing priorities and workflow in a fast-paced work environment. I make sure to prioritize tasks based on urgency and importance and am always looking for ways to improve efficiency and productivity.\n",
            "\n",
            "22. How do you ensure a commitment to excellence in your contribution to overall service delivery?\n",
            "Sample answer: I am committed to providing excellent service to all customers and operational teams and always strive to exceed their expectations. I am constantly looking for ways to improve my skills and knowledge to better serve the organization.\n",
            "\n",
            "23. Can you describe your experience with completing other duties as assigned?\n",
            "Sample answer: I am always willing to take on additional responsibilities and am comfortable working outside of my job description when necessary. I make sure to communicate with my supervisor to ensure I am meeting their expectations and to identify areas for improvement.\n",
            "\n",
            "24. How do you ensure a willingness to be challenged and learn new skills?\n",
            "Sample answer: I am always looking for opportunities to learn and grow, both personally and professionally. I am open to feedback and constructive criticism and am willing to take on new challenges to improve my skills and knowledge.\n",
            "\n",
            "25. Can you describe your experience with good judgment and making timely and sound decisions?\n",
            "Sample answer: I have experience making timely and sound decisions in a variety of work environments. I always make sure to gather all relevant information before making a decision and am comfortable taking responsibility for my actions.\n"
          ]
        }
      ]
    },
    {
      "cell_type": "markdown",
      "source": [
        "# Marketing/Sales"
      ],
      "metadata": {
        "id": "MIIuo-M8L8lw"
      }
    },
    {
      "cell_type": "code",
      "source": [],
      "metadata": {
        "id": "Lcog-aD7L9h0"
      },
      "execution_count": null,
      "outputs": []
    },
    {
      "cell_type": "code",
      "source": [],
      "metadata": {
        "id": "eHgmE7RxMFuc"
      },
      "execution_count": null,
      "outputs": []
    }
  ]
}